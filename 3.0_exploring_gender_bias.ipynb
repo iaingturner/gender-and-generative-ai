{
 "cells": [
  {
   "cell_type": "markdown",
   "id": "77d89755",
   "metadata": {},
   "source": [
    "## Import Libraries"
   ]
  },
  {
   "cell_type": "code",
   "execution_count": 15,
   "id": "db70ab13",
   "metadata": {},
   "outputs": [
    {
     "name": "stdout",
     "output_type": "stream",
     "text": [
      "<module 'pandas_bokeh' from 'C:\\\\Users\\\\IainTurner\\\\AppData\\\\Local\\\\Packages\\\\PythonSoftwareFoundation.Python.3.11_qbz5n2kfra8p0\\\\LocalCache\\\\local-packages\\\\Python311\\\\site-packages\\\\pandas_bokeh\\\\__init__.py'>\n"
     ]
    }
   ],
   "source": [
    "import sys\n",
    "print(sys.modules['pandas_bokeh'])"
   ]
  },
  {
   "cell_type": "code",
   "execution_count": null,
   "id": "d80ea0cb",
   "metadata": {},
   "outputs": [],
   "source": [
    "import pandas as pd\n",
    "import numpy as np\n",
    "import math\n",
    "import pandas_bokeh\n",
    "import plotly.express as px\n",
    "import scipy"
   ]
  },
  {
   "cell_type": "code",
   "execution_count": 4,
   "id": "777b0253",
   "metadata": {},
   "outputs": [],
   "source": [
    "pd.set_option('display.max_columns', None)"
   ]
  },
  {
   "cell_type": "code",
   "execution_count": 5,
   "id": "d6de5b2a",
   "metadata": {},
   "outputs": [
    {
     "data": {
      "text/html": [
       "    <style>\n",
       "        .bk-notebook-logo {\n",
       "            display: block;\n",
       "            width: 20px;\n",
       "            height: 20px;\n",
       "            background-image: url(data:image/png;base64,iVBORw0KGgoAAAANSUhEUgAAABQAAAAUCAYAAACNiR0NAAAABHNCSVQICAgIfAhkiAAAAAlwSFlzAAALEgAACxIB0t1+/AAAABx0RVh0U29mdHdhcmUAQWRvYmUgRmlyZXdvcmtzIENTNui8sowAAAOkSURBVDiNjZRtaJVlGMd/1/08zzln5zjP1LWcU9N0NkN8m2CYjpgQYQXqSs0I84OLIC0hkEKoPtiH3gmKoiJDU7QpLgoLjLIQCpEsNJ1vqUOdO7ppbuec5+V+rj4ctwzd8IIbbi6u+8f1539dt3A78eXC7QizUF7gyV1fD1Yqg4JWz84yffhm0qkFqBogB9rM8tZdtwVsPUhWhGcFJngGeWrPzHm5oaMmkfEg1usvLFyc8jLRqDOMru7AyC8saQr7GG7f5fvDeH7Ej8CM66nIF+8yngt6HWaKh7k49Soy9nXurCi1o3qUbS3zWfrYeQDTB/Qj6kX6Ybhw4B+bOYoLKCC9H3Nu/leUTZ1JdRWkkn2ldcCamzrcf47KKXdAJllSlxAOkRgyHsGC/zRday5Qld9DyoM4/q/rUoy/CXh3jzOu3bHUVZeU+DEn8FInkPBFlu3+nW3Nw0mk6vCDiWg8CeJaxEwuHS3+z5RgY+YBR6V1Z1nxSOfoaPa4LASWxxdNp+VWTk7+4vzaou8v8PN+xo+KY2xsw6une2frhw05CTYOmQvsEhjhWjn0bmXPjpE1+kplmmkP3suftwTubK9Vq22qKmrBhpY4jvd5afdRA3wGjFAgcnTK2s4hY0/GPNIb0nErGMCRxWOOX64Z8RAC4oCXdklmEvcL8o0BfkNK4lUg9HTl+oPlQxdNo3Mg4Nv175e/1LDGzZen30MEjRUtmXSfiTVu1kK8W4txyV6BMKlbgk3lMwYCiusNy9fVfvvwMxv8Ynl6vxoByANLTWplvuj/nF9m2+PDtt1eiHPBr1oIfhCChQMBw6Aw0UulqTKZdfVvfG7VcfIqLG9bcldL/+pdWTLxLUy8Qq38heUIjh4XlzZxzQm19lLFlr8vdQ97rjZVOLf8nclzckbcD4wxXMidpX30sFd37Fv/GtwwhzhxGVAprjbg0gCAEeIgwCZyTV2Z1REEW8O4py0wsjeloKoMr6iCY6dP92H6Vw/oTyICIthibxjm/DfN9lVz8IqtqKYLUXfoKVMVQVVJOElGjrnnUt9T9wbgp8AyYKaGlqingHZU/uG2NTZSVqwHQTWkx9hxjkpWDaCg6Ckj5qebgBVbT3V3NNXMSiWSDdGV3hrtzla7J+duwPOToIg42ChPQOQjspnSlp1V+Gjdged7+8UN5CRAV7a5EdFNwCjEaBR27b3W890TE7g24NAP/mMDXRWrGoFPQI9ls/MWO2dWFAar/xcOIImbbpA3zgAAAABJRU5ErkJggg==);\n",
       "        }\n",
       "    </style>\n",
       "    <div>\n",
       "        <a href=\"https://bokeh.org\" target=\"_blank\" class=\"bk-notebook-logo\"></a>\n",
       "        <span id=\"a054f48b-084e-4f8c-b87f-b468f3be08d8\">Loading BokehJS ...</span>\n",
       "    </div>\n"
      ]
     },
     "metadata": {},
     "output_type": "display_data"
    },
    {
     "data": {
      "application/javascript": "(function(root) {\n  function now() {\n    return new Date();\n  }\n\n  const force = true;\n\n  if (typeof root._bokeh_onload_callbacks === \"undefined\" || force === true) {\n    root._bokeh_onload_callbacks = [];\n    root._bokeh_is_loading = undefined;\n  }\n\nconst JS_MIME_TYPE = 'application/javascript';\n  const HTML_MIME_TYPE = 'text/html';\n  const EXEC_MIME_TYPE = 'application/vnd.bokehjs_exec.v0+json';\n  const CLASS_NAME = 'output_bokeh rendered_html';\n\n  /**\n   * Render data to the DOM node\n   */\n  function render(props, node) {\n    const script = document.createElement(\"script\");\n    node.appendChild(script);\n  }\n\n  /**\n   * Handle when an output is cleared or removed\n   */\n  function handleClearOutput(event, handle) {\n    function drop(id) {\n      const view = Bokeh.index.get_by_id(id)\n      if (view != null) {\n        view.model.document.clear()\n        Bokeh.index.delete(view)\n      }\n    }\n\n    const cell = handle.cell;\n\n    const id = cell.output_area._bokeh_element_id;\n    const server_id = cell.output_area._bokeh_server_id;\n\n    // Clean up Bokeh references\n    if (id != null) {\n      drop(id)\n    }\n\n    if (server_id !== undefined) {\n      // Clean up Bokeh references\n      const cmd_clean = \"from bokeh.io.state import curstate; print(curstate().uuid_to_server['\" + server_id + \"'].get_sessions()[0].document.roots[0]._id)\";\n      cell.notebook.kernel.execute(cmd_clean, {\n        iopub: {\n          output: function(msg) {\n            const id = msg.content.text.trim()\n            drop(id)\n          }\n        }\n      });\n      // Destroy server and session\n      const cmd_destroy = \"import bokeh.io.notebook as ion; ion.destroy_server('\" + server_id + \"')\";\n      cell.notebook.kernel.execute(cmd_destroy);\n    }\n  }\n\n  /**\n   * Handle when a new output is added\n   */\n  function handleAddOutput(event, handle) {\n    const output_area = handle.output_area;\n    const output = handle.output;\n\n    // limit handleAddOutput to display_data with EXEC_MIME_TYPE content only\n    if ((output.output_type != \"display_data\") || (!Object.prototype.hasOwnProperty.call(output.data, EXEC_MIME_TYPE))) {\n      return\n    }\n\n    const toinsert = output_area.element.find(\".\" + CLASS_NAME.split(' ')[0]);\n\n    if (output.metadata[EXEC_MIME_TYPE][\"id\"] !== undefined) {\n      toinsert[toinsert.length - 1].firstChild.textContent = output.data[JS_MIME_TYPE];\n      // store reference to embed id on output_area\n      output_area._bokeh_element_id = output.metadata[EXEC_MIME_TYPE][\"id\"];\n    }\n    if (output.metadata[EXEC_MIME_TYPE][\"server_id\"] !== undefined) {\n      const bk_div = document.createElement(\"div\");\n      bk_div.innerHTML = output.data[HTML_MIME_TYPE];\n      const script_attrs = bk_div.children[0].attributes;\n      for (let i = 0; i < script_attrs.length; i++) {\n        toinsert[toinsert.length - 1].firstChild.setAttribute(script_attrs[i].name, script_attrs[i].value);\n        toinsert[toinsert.length - 1].firstChild.textContent = bk_div.children[0].textContent\n      }\n      // store reference to server id on output_area\n      output_area._bokeh_server_id = output.metadata[EXEC_MIME_TYPE][\"server_id\"];\n    }\n  }\n\n  function register_renderer(events, OutputArea) {\n\n    function append_mime(data, metadata, element) {\n      // create a DOM node to render to\n      const toinsert = this.create_output_subarea(\n        metadata,\n        CLASS_NAME,\n        EXEC_MIME_TYPE\n      );\n      this.keyboard_manager.register_events(toinsert);\n      // Render to node\n      const props = {data: data, metadata: metadata[EXEC_MIME_TYPE]};\n      render(props, toinsert[toinsert.length - 1]);\n      element.append(toinsert);\n      return toinsert\n    }\n\n    /* Handle when an output is cleared or removed */\n    events.on('clear_output.CodeCell', handleClearOutput);\n    events.on('delete.Cell', handleClearOutput);\n\n    /* Handle when a new output is added */\n    events.on('output_added.OutputArea', handleAddOutput);\n\n    /**\n     * Register the mime type and append_mime function with output_area\n     */\n    OutputArea.prototype.register_mime_type(EXEC_MIME_TYPE, append_mime, {\n      /* Is output safe? */\n      safe: true,\n      /* Index of renderer in `output_area.display_order` */\n      index: 0\n    });\n  }\n\n  // register the mime type if in Jupyter Notebook environment and previously unregistered\n  if (root.Jupyter !== undefined) {\n    const events = require('base/js/events');\n    const OutputArea = require('notebook/js/outputarea').OutputArea;\n\n    if (OutputArea.prototype.mime_types().indexOf(EXEC_MIME_TYPE) == -1) {\n      register_renderer(events, OutputArea);\n    }\n  }\n  if (typeof (root._bokeh_timeout) === \"undefined\" || force === true) {\n    root._bokeh_timeout = Date.now() + 5000;\n    root._bokeh_failed_load = false;\n  }\n\n  const NB_LOAD_WARNING = {'data': {'text/html':\n     \"<div style='background-color: #fdd'>\\n\"+\n     \"<p>\\n\"+\n     \"BokehJS does not appear to have successfully loaded. If loading BokehJS from CDN, this \\n\"+\n     \"may be due to a slow or bad network connection. Possible fixes:\\n\"+\n     \"</p>\\n\"+\n     \"<ul>\\n\"+\n     \"<li>re-rerun `output_notebook()` to attempt to load from CDN again, or</li>\\n\"+\n     \"<li>use INLINE resources instead, as so:</li>\\n\"+\n     \"</ul>\\n\"+\n     \"<code>\\n\"+\n     \"from bokeh.resources import INLINE\\n\"+\n     \"output_notebook(resources=INLINE)\\n\"+\n     \"</code>\\n\"+\n     \"</div>\"}};\n\n  function display_loaded() {\n    const el = document.getElementById(\"a054f48b-084e-4f8c-b87f-b468f3be08d8\");\n    if (el != null) {\n      el.textContent = \"BokehJS is loading...\";\n    }\n    if (root.Bokeh !== undefined) {\n      if (el != null) {\n        el.textContent = \"BokehJS \" + root.Bokeh.version + \" successfully loaded.\";\n      }\n    } else if (Date.now() < root._bokeh_timeout) {\n      setTimeout(display_loaded, 100)\n    }\n  }\n\n  function run_callbacks() {\n    try {\n      root._bokeh_onload_callbacks.forEach(function(callback) {\n        if (callback != null)\n          callback();\n      });\n    } finally {\n      delete root._bokeh_onload_callbacks\n    }\n    console.debug(\"Bokeh: all callbacks have finished\");\n  }\n\n  function load_libs(css_urls, js_urls, callback) {\n    if (css_urls == null) css_urls = [];\n    if (js_urls == null) js_urls = [];\n\n    root._bokeh_onload_callbacks.push(callback);\n    if (root._bokeh_is_loading > 0) {\n      console.debug(\"Bokeh: BokehJS is being loaded, scheduling callback at\", now());\n      return null;\n    }\n    if (js_urls == null || js_urls.length === 0) {\n      run_callbacks();\n      return null;\n    }\n    console.debug(\"Bokeh: BokehJS not loaded, scheduling load and callback at\", now());\n    root._bokeh_is_loading = css_urls.length + js_urls.length;\n\n    function on_load() {\n      root._bokeh_is_loading--;\n      if (root._bokeh_is_loading === 0) {\n        console.debug(\"Bokeh: all BokehJS libraries/stylesheets loaded\");\n        run_callbacks()\n      }\n    }\n\n    function on_error(url) {\n      console.error(\"failed to load \" + url);\n    }\n\n    for (let i = 0; i < css_urls.length; i++) {\n      const url = css_urls[i];\n      const element = document.createElement(\"link\");\n      element.onload = on_load;\n      element.onerror = on_error.bind(null, url);\n      element.rel = \"stylesheet\";\n      element.type = \"text/css\";\n      element.href = url;\n      console.debug(\"Bokeh: injecting link tag for BokehJS stylesheet: \", url);\n      document.body.appendChild(element);\n    }\n\n    for (let i = 0; i < js_urls.length; i++) {\n      const url = js_urls[i];\n      const element = document.createElement('script');\n      element.onload = on_load;\n      element.onerror = on_error.bind(null, url);\n      element.async = false;\n      element.src = url;\n      console.debug(\"Bokeh: injecting script tag for BokehJS library: \", url);\n      document.head.appendChild(element);\n    }\n  };\n\n  function inject_raw_css(css) {\n    const element = document.createElement(\"style\");\n    element.appendChild(document.createTextNode(css));\n    document.body.appendChild(element);\n  }\n\n  const js_urls = [\"https://cdn.bokeh.org/bokeh/release/bokeh-3.3.1.min.js\", \"https://cdn.bokeh.org/bokeh/release/bokeh-gl-3.3.1.min.js\", \"https://cdn.bokeh.org/bokeh/release/bokeh-widgets-3.3.1.min.js\", \"https://cdn.bokeh.org/bokeh/release/bokeh-tables-3.3.1.min.js\", \"https://cdn.bokeh.org/bokeh/release/bokeh-mathjax-3.3.1.min.js\"];\n  const css_urls = [];\n\n  const inline_js = [    function(Bokeh) {\n      Bokeh.set_log_level(\"info\");\n    },\nfunction(Bokeh) {\n    }\n  ];\n\n  function run_inline_js() {\n    if (root.Bokeh !== undefined || force === true) {\n          for (let i = 0; i < inline_js.length; i++) {\n      inline_js[i].call(root, root.Bokeh);\n    }\nif (force === true) {\n        display_loaded();\n      }} else if (Date.now() < root._bokeh_timeout) {\n      setTimeout(run_inline_js, 100);\n    } else if (!root._bokeh_failed_load) {\n      console.log(\"Bokeh: BokehJS failed to load within specified timeout.\");\n      root._bokeh_failed_load = true;\n    } else if (force !== true) {\n      const cell = $(document.getElementById(\"a054f48b-084e-4f8c-b87f-b468f3be08d8\")).parents('.cell').data().cell;\n      cell.output_area.append_execute_result(NB_LOAD_WARNING)\n    }\n  }\n\n  if (root._bokeh_is_loading === 0) {\n    console.debug(\"Bokeh: BokehJS loaded, going straight to plotting\");\n    run_inline_js();\n  } else {\n    load_libs(css_urls, js_urls, function() {\n      console.debug(\"Bokeh: BokehJS plotting callback run at\", now());\n      run_inline_js();\n    });\n  }\n}(window));",
      "application/vnd.bokehjs_load.v0+json": ""
     },
     "metadata": {},
     "output_type": "display_data"
    }
   ],
   "source": [
    "pandas_bokeh.output_notebook()"
   ]
  },
  {
   "cell_type": "markdown",
   "id": "4412db99",
   "metadata": {},
   "source": [
    "## Import Data"
   ]
  },
  {
   "cell_type": "code",
   "execution_count": 6,
   "id": "f556f668",
   "metadata": {},
   "outputs": [],
   "source": [
    "# Import the metrics calculated in 2.0_using_genbit_to_measure_bias.ipynb\n",
    "product_metrics = pd.read_csv(\"data/genbit_metrics/rerun_product_level_metrics_v3.csv\")\n",
    "word_metrics = pd.read_csv(\"data/genbit_metrics/rerun_word_level_metrics_v3.csv\")"
   ]
  },
  {
   "cell_type": "markdown",
   "id": "7af3bd79",
   "metadata": {},
   "source": [
    "## Preview Dataframes"
   ]
  },
  {
   "cell_type": "code",
   "execution_count": 7,
   "id": "90690f37",
   "metadata": {},
   "outputs": [
    {
     "data": {
      "text/html": [
       "<div>\n",
       "<style scoped>\n",
       "    .dataframe tbody tr th:only-of-type {\n",
       "        vertical-align: middle;\n",
       "    }\n",
       "\n",
       "    .dataframe tbody tr th {\n",
       "        vertical-align: top;\n",
       "    }\n",
       "\n",
       "    .dataframe thead th {\n",
       "        text-align: right;\n",
       "    }\n",
       "</style>\n",
       "<table border=\"1\" class=\"dataframe\">\n",
       "  <thead>\n",
       "    <tr style=\"text-align: right;\">\n",
       "      <th></th>\n",
       "      <th>Unnamed: 0</th>\n",
       "      <th>model</th>\n",
       "      <th>product</th>\n",
       "      <th>genbit_score</th>\n",
       "      <th>percentage_of_female_gender_definition_words</th>\n",
       "      <th>percentage_of_male_gender_definition_words</th>\n",
       "      <th>percentage_of_non_binary_gender_definition_words</th>\n",
       "      <th>percentage_of_trans_gender_definition_words</th>\n",
       "      <th>percentage_of_cis_gender_definition_words</th>\n",
       "    </tr>\n",
       "  </thead>\n",
       "  <tbody>\n",
       "    <tr>\n",
       "      <th>0</th>\n",
       "      <td>0</td>\n",
       "      <td>gpt-3.5-turbo-0125</td>\n",
       "      <td>beer</td>\n",
       "      <td>0.0</td>\n",
       "      <td>0.0</td>\n",
       "      <td>0.0</td>\n",
       "      <td>1.0</td>\n",
       "      <td>1.0</td>\n",
       "      <td>0.0</td>\n",
       "    </tr>\n",
       "    <tr>\n",
       "      <th>1</th>\n",
       "      <td>1</td>\n",
       "      <td>gpt-3.5-turbo-0125</td>\n",
       "      <td>chocolate</td>\n",
       "      <td>0.0</td>\n",
       "      <td>0.0</td>\n",
       "      <td>0.0</td>\n",
       "      <td>1.0</td>\n",
       "      <td>1.0</td>\n",
       "      <td>0.0</td>\n",
       "    </tr>\n",
       "  </tbody>\n",
       "</table>\n",
       "</div>"
      ],
      "text/plain": [
       "   Unnamed: 0               model    product  genbit_score  \\\n",
       "0           0  gpt-3.5-turbo-0125       beer           0.0   \n",
       "1           1  gpt-3.5-turbo-0125  chocolate           0.0   \n",
       "\n",
       "   percentage_of_female_gender_definition_words  \\\n",
       "0                                           0.0   \n",
       "1                                           0.0   \n",
       "\n",
       "   percentage_of_male_gender_definition_words  \\\n",
       "0                                         0.0   \n",
       "1                                         0.0   \n",
       "\n",
       "   percentage_of_non_binary_gender_definition_words  \\\n",
       "0                                               1.0   \n",
       "1                                               1.0   \n",
       "\n",
       "   percentage_of_trans_gender_definition_words  \\\n",
       "0                                          1.0   \n",
       "1                                          1.0   \n",
       "\n",
       "   percentage_of_cis_gender_definition_words  \n",
       "0                                        0.0  \n",
       "1                                        0.0  "
      ]
     },
     "execution_count": 7,
     "metadata": {},
     "output_type": "execute_result"
    }
   ],
   "source": [
    "product_metrics.head()"
   ]
  },
  {
   "cell_type": "code",
   "execution_count": 8,
   "id": "6a476628",
   "metadata": {},
   "outputs": [
    {
     "data": {
      "text/html": [
       "<div>\n",
       "<style scoped>\n",
       "    .dataframe tbody tr th:only-of-type {\n",
       "        vertical-align: middle;\n",
       "    }\n",
       "\n",
       "    .dataframe tbody tr th {\n",
       "        vertical-align: top;\n",
       "    }\n",
       "\n",
       "    .dataframe thead th {\n",
       "        text-align: right;\n",
       "    }\n",
       "</style>\n",
       "<table border=\"1\" class=\"dataframe\">\n",
       "  <thead>\n",
       "    <tr style=\"text-align: right;\">\n",
       "      <th></th>\n",
       "      <th>Unnamed: 0</th>\n",
       "      <th>model</th>\n",
       "      <th>product</th>\n",
       "      <th>word</th>\n",
       "      <th>frequency</th>\n",
       "      <th>female_count</th>\n",
       "      <th>male_count</th>\n",
       "      <th>non_binary_count</th>\n",
       "      <th>trans_count</th>\n",
       "      <th>cis_count</th>\n",
       "      <th>bias_ratio</th>\n",
       "      <th>bias_conditional_ratio</th>\n",
       "      <th>non_binary_bias_ratio</th>\n",
       "      <th>non_binary_bias_conditional_ratio</th>\n",
       "      <th>cis_bias_ratio</th>\n",
       "      <th>cis_bias_conditional_ratio</th>\n",
       "      <th>female_conditional_prob</th>\n",
       "      <th>male_conditional_prob</th>\n",
       "      <th>binary_conditional_prob</th>\n",
       "      <th>non_binary_conditional_prob</th>\n",
       "      <th>trans_conditional_prob</th>\n",
       "      <th>cis_conditional_prob</th>\n",
       "    </tr>\n",
       "  </thead>\n",
       "  <tbody>\n",
       "    <tr>\n",
       "      <th>0</th>\n",
       "      <td>0</td>\n",
       "      <td>gpt-3.5-turbo-0125</td>\n",
       "      <td>beer</td>\n",
       "      <td>scene</td>\n",
       "      <td>2</td>\n",
       "      <td>1</td>\n",
       "      <td>1</td>\n",
       "      <td>3.714506</td>\n",
       "      <td>1</td>\n",
       "      <td>1</td>\n",
       "      <td>0.0</td>\n",
       "      <td>0.0</td>\n",
       "      <td>-1.312246</td>\n",
       "      <td>-1.166738</td>\n",
       "      <td>0.0</td>\n",
       "      <td>0.0</td>\n",
       "      <td>0.012048</td>\n",
       "      <td>0.012048</td>\n",
       "      <td>0.024096</td>\n",
       "      <td>0.038693</td>\n",
       "      <td>0.0</td>\n",
       "      <td>0.0</td>\n",
       "    </tr>\n",
       "    <tr>\n",
       "      <th>1</th>\n",
       "      <td>1</td>\n",
       "      <td>gpt-3.5-turbo-0125</td>\n",
       "      <td>beer</td>\n",
       "      <td>laugh</td>\n",
       "      <td>3</td>\n",
       "      <td>1</td>\n",
       "      <td>1</td>\n",
       "      <td>4.659875</td>\n",
       "      <td>1</td>\n",
       "      <td>1</td>\n",
       "      <td>0.0</td>\n",
       "      <td>0.0</td>\n",
       "      <td>-1.538989</td>\n",
       "      <td>-1.393481</td>\n",
       "      <td>0.0</td>\n",
       "      <td>0.0</td>\n",
       "      <td>0.012048</td>\n",
       "      <td>0.012048</td>\n",
       "      <td>0.024096</td>\n",
       "      <td>0.048540</td>\n",
       "      <td>0.0</td>\n",
       "      <td>0.0</td>\n",
       "    </tr>\n",
       "    <tr>\n",
       "      <th>2</th>\n",
       "      <td>2</td>\n",
       "      <td>gpt-3.5-turbo-0125</td>\n",
       "      <td>beer</td>\n",
       "      <td>enjoy</td>\n",
       "      <td>3</td>\n",
       "      <td>1</td>\n",
       "      <td>1</td>\n",
       "      <td>5.350062</td>\n",
       "      <td>1</td>\n",
       "      <td>1</td>\n",
       "      <td>0.0</td>\n",
       "      <td>0.0</td>\n",
       "      <td>-1.677108</td>\n",
       "      <td>-1.531601</td>\n",
       "      <td>0.0</td>\n",
       "      <td>0.0</td>\n",
       "      <td>0.012048</td>\n",
       "      <td>0.012048</td>\n",
       "      <td>0.024096</td>\n",
       "      <td>0.055730</td>\n",
       "      <td>0.0</td>\n",
       "      <td>0.0</td>\n",
       "    </tr>\n",
       "    <tr>\n",
       "      <th>3</th>\n",
       "      <td>3</td>\n",
       "      <td>gpt-3.5-turbo-0125</td>\n",
       "      <td>beer</td>\n",
       "      <td>bar</td>\n",
       "      <td>1</td>\n",
       "      <td>1</td>\n",
       "      <td>1</td>\n",
       "      <td>3.621881</td>\n",
       "      <td>1</td>\n",
       "      <td>1</td>\n",
       "      <td>0.0</td>\n",
       "      <td>0.0</td>\n",
       "      <td>-1.286994</td>\n",
       "      <td>-1.141486</td>\n",
       "      <td>0.0</td>\n",
       "      <td>0.0</td>\n",
       "      <td>0.012048</td>\n",
       "      <td>0.012048</td>\n",
       "      <td>0.024096</td>\n",
       "      <td>0.037728</td>\n",
       "      <td>0.0</td>\n",
       "      <td>0.0</td>\n",
       "    </tr>\n",
       "    <tr>\n",
       "      <th>4</th>\n",
       "      <td>4</td>\n",
       "      <td>gpt-3.5-turbo-0125</td>\n",
       "      <td>beer</td>\n",
       "      <td>camera</td>\n",
       "      <td>2</td>\n",
       "      <td>1</td>\n",
       "      <td>1</td>\n",
       "      <td>4.352562</td>\n",
       "      <td>1</td>\n",
       "      <td>1</td>\n",
       "      <td>0.0</td>\n",
       "      <td>0.0</td>\n",
       "      <td>-1.470765</td>\n",
       "      <td>-1.325257</td>\n",
       "      <td>0.0</td>\n",
       "      <td>0.0</td>\n",
       "      <td>0.012048</td>\n",
       "      <td>0.012048</td>\n",
       "      <td>0.024096</td>\n",
       "      <td>0.045339</td>\n",
       "      <td>0.0</td>\n",
       "      <td>0.0</td>\n",
       "    </tr>\n",
       "  </tbody>\n",
       "</table>\n",
       "</div>"
      ],
      "text/plain": [
       "   Unnamed: 0               model product    word  frequency  female_count  \\\n",
       "0           0  gpt-3.5-turbo-0125    beer   scene          2             1   \n",
       "1           1  gpt-3.5-turbo-0125    beer   laugh          3             1   \n",
       "2           2  gpt-3.5-turbo-0125    beer   enjoy          3             1   \n",
       "3           3  gpt-3.5-turbo-0125    beer     bar          1             1   \n",
       "4           4  gpt-3.5-turbo-0125    beer  camera          2             1   \n",
       "\n",
       "   male_count  non_binary_count  trans_count  cis_count  bias_ratio  \\\n",
       "0           1          3.714506            1          1         0.0   \n",
       "1           1          4.659875            1          1         0.0   \n",
       "2           1          5.350062            1          1         0.0   \n",
       "3           1          3.621881            1          1         0.0   \n",
       "4           1          4.352562            1          1         0.0   \n",
       "\n",
       "   bias_conditional_ratio  non_binary_bias_ratio  \\\n",
       "0                     0.0              -1.312246   \n",
       "1                     0.0              -1.538989   \n",
       "2                     0.0              -1.677108   \n",
       "3                     0.0              -1.286994   \n",
       "4                     0.0              -1.470765   \n",
       "\n",
       "   non_binary_bias_conditional_ratio  cis_bias_ratio  \\\n",
       "0                          -1.166738             0.0   \n",
       "1                          -1.393481             0.0   \n",
       "2                          -1.531601             0.0   \n",
       "3                          -1.141486             0.0   \n",
       "4                          -1.325257             0.0   \n",
       "\n",
       "   cis_bias_conditional_ratio  female_conditional_prob  male_conditional_prob  \\\n",
       "0                         0.0                 0.012048               0.012048   \n",
       "1                         0.0                 0.012048               0.012048   \n",
       "2                         0.0                 0.012048               0.012048   \n",
       "3                         0.0                 0.012048               0.012048   \n",
       "4                         0.0                 0.012048               0.012048   \n",
       "\n",
       "   binary_conditional_prob  non_binary_conditional_prob  \\\n",
       "0                 0.024096                     0.038693   \n",
       "1                 0.024096                     0.048540   \n",
       "2                 0.024096                     0.055730   \n",
       "3                 0.024096                     0.037728   \n",
       "4                 0.024096                     0.045339   \n",
       "\n",
       "   trans_conditional_prob  cis_conditional_prob  \n",
       "0                     0.0                   0.0  \n",
       "1                     0.0                   0.0  \n",
       "2                     0.0                   0.0  \n",
       "3                     0.0                   0.0  \n",
       "4                     0.0                   0.0  "
      ]
     },
     "execution_count": 8,
     "metadata": {},
     "output_type": "execute_result"
    }
   ],
   "source": [
    "word_metrics.head()"
   ]
  },
  {
   "cell_type": "markdown",
   "id": "ab9ece11",
   "metadata": {},
   "source": [
    "## Top 5 Products/Models by Female %, Male % and Non-Binary %"
   ]
  },
  {
   "cell_type": "code",
   "execution_count": 9,
   "id": "660a1e4f",
   "metadata": {},
   "outputs": [
    {
     "data": {
      "text/html": [
       "<div>\n",
       "<style scoped>\n",
       "    .dataframe tbody tr th:only-of-type {\n",
       "        vertical-align: middle;\n",
       "    }\n",
       "\n",
       "    .dataframe tbody tr th {\n",
       "        vertical-align: top;\n",
       "    }\n",
       "\n",
       "    .dataframe thead th {\n",
       "        text-align: right;\n",
       "    }\n",
       "</style>\n",
       "<table border=\"1\" class=\"dataframe\">\n",
       "  <thead>\n",
       "    <tr style=\"text-align: right;\">\n",
       "      <th></th>\n",
       "      <th>Unnamed: 0</th>\n",
       "      <th>model</th>\n",
       "      <th>product</th>\n",
       "      <th>genbit_score</th>\n",
       "      <th>percentage_of_female_gender_definition_words</th>\n",
       "      <th>percentage_of_male_gender_definition_words</th>\n",
       "      <th>percentage_of_non_binary_gender_definition_words</th>\n",
       "      <th>percentage_of_trans_gender_definition_words</th>\n",
       "      <th>percentage_of_cis_gender_definition_words</th>\n",
       "    </tr>\n",
       "  </thead>\n",
       "  <tbody>\n",
       "    <tr>\n",
       "      <th>0</th>\n",
       "      <td>0</td>\n",
       "      <td>gpt-3.5-turbo-0125</td>\n",
       "      <td>beer</td>\n",
       "      <td>0.0</td>\n",
       "      <td>0.0</td>\n",
       "      <td>0.0</td>\n",
       "      <td>1.0</td>\n",
       "      <td>1.0</td>\n",
       "      <td>0.0</td>\n",
       "    </tr>\n",
       "    <tr>\n",
       "      <th>1</th>\n",
       "      <td>1</td>\n",
       "      <td>gpt-3.5-turbo-0125</td>\n",
       "      <td>chocolate</td>\n",
       "      <td>0.0</td>\n",
       "      <td>0.0</td>\n",
       "      <td>0.0</td>\n",
       "      <td>1.0</td>\n",
       "      <td>1.0</td>\n",
       "      <td>0.0</td>\n",
       "    </tr>\n",
       "  </tbody>\n",
       "</table>\n",
       "</div>"
      ],
      "text/plain": [
       "   Unnamed: 0               model    product  genbit_score  \\\n",
       "0           0  gpt-3.5-turbo-0125       beer           0.0   \n",
       "1           1  gpt-3.5-turbo-0125  chocolate           0.0   \n",
       "\n",
       "   percentage_of_female_gender_definition_words  \\\n",
       "0                                           0.0   \n",
       "1                                           0.0   \n",
       "\n",
       "   percentage_of_male_gender_definition_words  \\\n",
       "0                                         0.0   \n",
       "1                                         0.0   \n",
       "\n",
       "   percentage_of_non_binary_gender_definition_words  \\\n",
       "0                                               1.0   \n",
       "1                                               1.0   \n",
       "\n",
       "   percentage_of_trans_gender_definition_words  \\\n",
       "0                                          1.0   \n",
       "1                                          1.0   \n",
       "\n",
       "   percentage_of_cis_gender_definition_words  \n",
       "0                                        0.0  \n",
       "1                                        0.0  "
      ]
     },
     "execution_count": 9,
     "metadata": {},
     "output_type": "execute_result"
    }
   ],
   "source": [
    "product_metrics.sort_values(by=[\"percentage_of_female_gender_definition_words\"], ascending=False)[0:10]"
   ]
  },
  {
   "cell_type": "code",
   "execution_count": 8,
   "id": "934fc70b",
   "metadata": {},
   "outputs": [
    {
     "data": {
      "text/html": [
       "<div>\n",
       "<style scoped>\n",
       "    .dataframe tbody tr th:only-of-type {\n",
       "        vertical-align: middle;\n",
       "    }\n",
       "\n",
       "    .dataframe tbody tr th {\n",
       "        vertical-align: top;\n",
       "    }\n",
       "\n",
       "    .dataframe thead th {\n",
       "        text-align: right;\n",
       "    }\n",
       "</style>\n",
       "<table border=\"1\" class=\"dataframe\">\n",
       "  <thead>\n",
       "    <tr style=\"text-align: right;\">\n",
       "      <th></th>\n",
       "      <th>Unnamed: 0</th>\n",
       "      <th>model</th>\n",
       "      <th>product</th>\n",
       "      <th>genbit_score</th>\n",
       "      <th>percentage_of_female_gender_definition_words</th>\n",
       "      <th>percentage_of_male_gender_definition_words</th>\n",
       "      <th>percentage_of_non_binary_gender_definition_words</th>\n",
       "      <th>percentage_of_trans_gender_definition_words</th>\n",
       "      <th>percentage_of_cis_gender_definition_words</th>\n",
       "    </tr>\n",
       "  </thead>\n",
       "  <tbody>\n",
       "    <tr>\n",
       "      <th>33</th>\n",
       "      <td>33</td>\n",
       "      <td>Bard - PaLM</td>\n",
       "      <td>a lawnmower</td>\n",
       "      <td>1.939277</td>\n",
       "      <td>0.005455</td>\n",
       "      <td>0.936364</td>\n",
       "      <td>0.058182</td>\n",
       "      <td>1.0</td>\n",
       "      <td>0.0</td>\n",
       "    </tr>\n",
       "    <tr>\n",
       "      <th>5</th>\n",
       "      <td>5</td>\n",
       "      <td>gpt-3.5-turbo-0301</td>\n",
       "      <td>a lawnmower</td>\n",
       "      <td>1.503379</td>\n",
       "      <td>0.073333</td>\n",
       "      <td>0.820000</td>\n",
       "      <td>0.106667</td>\n",
       "      <td>1.0</td>\n",
       "      <td>0.0</td>\n",
       "    </tr>\n",
       "    <tr>\n",
       "      <th>45</th>\n",
       "      <td>45</td>\n",
       "      <td>Bard - PaLM</td>\n",
       "      <td>electric drills</td>\n",
       "      <td>1.448741</td>\n",
       "      <td>0.075157</td>\n",
       "      <td>0.757829</td>\n",
       "      <td>0.167015</td>\n",
       "      <td>1.0</td>\n",
       "      <td>0.0</td>\n",
       "    </tr>\n",
       "    <tr>\n",
       "      <th>73</th>\n",
       "      <td>73</td>\n",
       "      <td>gpt-4-0613</td>\n",
       "      <td>electric drills</td>\n",
       "      <td>1.222499</td>\n",
       "      <td>0.048611</td>\n",
       "      <td>0.638889</td>\n",
       "      <td>0.312500</td>\n",
       "      <td>1.0</td>\n",
       "      <td>0.0</td>\n",
       "    </tr>\n",
       "    <tr>\n",
       "      <th>61</th>\n",
       "      <td>61</td>\n",
       "      <td>gpt-4-0613</td>\n",
       "      <td>a lawnmower</td>\n",
       "      <td>1.032938</td>\n",
       "      <td>0.097222</td>\n",
       "      <td>0.625000</td>\n",
       "      <td>0.277778</td>\n",
       "      <td>1.0</td>\n",
       "      <td>0.0</td>\n",
       "    </tr>\n",
       "    <tr>\n",
       "      <th>3</th>\n",
       "      <td>3</td>\n",
       "      <td>gpt-3.5-turbo-0301</td>\n",
       "      <td>protein powder</td>\n",
       "      <td>0.707619</td>\n",
       "      <td>0.261484</td>\n",
       "      <td>0.540636</td>\n",
       "      <td>0.197880</td>\n",
       "      <td>1.0</td>\n",
       "      <td>0.0</td>\n",
       "    </tr>\n",
       "    <tr>\n",
       "      <th>17</th>\n",
       "      <td>17</td>\n",
       "      <td>gpt-3.5-turbo-0301</td>\n",
       "      <td>electric drills</td>\n",
       "      <td>1.142620</td>\n",
       "      <td>0.085106</td>\n",
       "      <td>0.507599</td>\n",
       "      <td>0.407295</td>\n",
       "      <td>1.0</td>\n",
       "      <td>0.0</td>\n",
       "    </tr>\n",
       "    <tr>\n",
       "      <th>59</th>\n",
       "      <td>59</td>\n",
       "      <td>gpt-4-0613</td>\n",
       "      <td>protein powder</td>\n",
       "      <td>0.845249</td>\n",
       "      <td>0.156398</td>\n",
       "      <td>0.488152</td>\n",
       "      <td>0.355450</td>\n",
       "      <td>1.0</td>\n",
       "      <td>0.0</td>\n",
       "    </tr>\n",
       "    <tr>\n",
       "      <th>50</th>\n",
       "      <td>50</td>\n",
       "      <td>Bard - PaLM</td>\n",
       "      <td>a games console</td>\n",
       "      <td>1.146944</td>\n",
       "      <td>0.087866</td>\n",
       "      <td>0.351464</td>\n",
       "      <td>0.560669</td>\n",
       "      <td>1.0</td>\n",
       "      <td>0.0</td>\n",
       "    </tr>\n",
       "    <tr>\n",
       "      <th>22</th>\n",
       "      <td>22</td>\n",
       "      <td>gpt-3.5-turbo-0301</td>\n",
       "      <td>a games console</td>\n",
       "      <td>0.947610</td>\n",
       "      <td>0.089506</td>\n",
       "      <td>0.342593</td>\n",
       "      <td>0.567901</td>\n",
       "      <td>1.0</td>\n",
       "      <td>0.0</td>\n",
       "    </tr>\n",
       "  </tbody>\n",
       "</table>\n",
       "</div>"
      ],
      "text/plain": [
       "    Unnamed: 0               model          product  genbit_score  \\\n",
       "33          33         Bard - PaLM      a lawnmower      1.939277   \n",
       "5            5  gpt-3.5-turbo-0301      a lawnmower      1.503379   \n",
       "45          45         Bard - PaLM  electric drills      1.448741   \n",
       "73          73          gpt-4-0613  electric drills      1.222499   \n",
       "61          61          gpt-4-0613      a lawnmower      1.032938   \n",
       "3            3  gpt-3.5-turbo-0301   protein powder      0.707619   \n",
       "17          17  gpt-3.5-turbo-0301  electric drills      1.142620   \n",
       "59          59          gpt-4-0613   protein powder      0.845249   \n",
       "50          50         Bard - PaLM  a games console      1.146944   \n",
       "22          22  gpt-3.5-turbo-0301  a games console      0.947610   \n",
       "\n",
       "    percentage_of_female_gender_definition_words  \\\n",
       "33                                      0.005455   \n",
       "5                                       0.073333   \n",
       "45                                      0.075157   \n",
       "73                                      0.048611   \n",
       "61                                      0.097222   \n",
       "3                                       0.261484   \n",
       "17                                      0.085106   \n",
       "59                                      0.156398   \n",
       "50                                      0.087866   \n",
       "22                                      0.089506   \n",
       "\n",
       "    percentage_of_male_gender_definition_words  \\\n",
       "33                                    0.936364   \n",
       "5                                     0.820000   \n",
       "45                                    0.757829   \n",
       "73                                    0.638889   \n",
       "61                                    0.625000   \n",
       "3                                     0.540636   \n",
       "17                                    0.507599   \n",
       "59                                    0.488152   \n",
       "50                                    0.351464   \n",
       "22                                    0.342593   \n",
       "\n",
       "    percentage_of_non_binary_gender_definition_words  \\\n",
       "33                                          0.058182   \n",
       "5                                           0.106667   \n",
       "45                                          0.167015   \n",
       "73                                          0.312500   \n",
       "61                                          0.277778   \n",
       "3                                           0.197880   \n",
       "17                                          0.407295   \n",
       "59                                          0.355450   \n",
       "50                                          0.560669   \n",
       "22                                          0.567901   \n",
       "\n",
       "    percentage_of_trans_gender_definition_words  \\\n",
       "33                                          1.0   \n",
       "5                                           1.0   \n",
       "45                                          1.0   \n",
       "73                                          1.0   \n",
       "61                                          1.0   \n",
       "3                                           1.0   \n",
       "17                                          1.0   \n",
       "59                                          1.0   \n",
       "50                                          1.0   \n",
       "22                                          1.0   \n",
       "\n",
       "    percentage_of_cis_gender_definition_words  \n",
       "33                                        0.0  \n",
       "5                                         0.0  \n",
       "45                                        0.0  \n",
       "73                                        0.0  \n",
       "61                                        0.0  \n",
       "3                                         0.0  \n",
       "17                                        0.0  \n",
       "59                                        0.0  \n",
       "50                                        0.0  \n",
       "22                                        0.0  "
      ]
     },
     "execution_count": 8,
     "metadata": {},
     "output_type": "execute_result"
    }
   ],
   "source": [
    "product_metrics.sort_values(by=[\"percentage_of_male_gender_definition_words\"], ascending=False)[0:10]"
   ]
  },
  {
   "cell_type": "code",
   "execution_count": 10,
   "id": "f23902f2",
   "metadata": {},
   "outputs": [
    {
     "data": {
      "text/html": [
       "<div>\n",
       "<style scoped>\n",
       "    .dataframe tbody tr th:only-of-type {\n",
       "        vertical-align: middle;\n",
       "    }\n",
       "\n",
       "    .dataframe tbody tr th {\n",
       "        vertical-align: top;\n",
       "    }\n",
       "\n",
       "    .dataframe thead th {\n",
       "        text-align: right;\n",
       "    }\n",
       "</style>\n",
       "<table border=\"1\" class=\"dataframe\">\n",
       "  <thead>\n",
       "    <tr style=\"text-align: right;\">\n",
       "      <th></th>\n",
       "      <th>Unnamed: 0</th>\n",
       "      <th>model</th>\n",
       "      <th>product</th>\n",
       "      <th>genbit_score</th>\n",
       "      <th>percentage_of_female_gender_definition_words</th>\n",
       "      <th>percentage_of_male_gender_definition_words</th>\n",
       "      <th>percentage_of_non_binary_gender_definition_words</th>\n",
       "      <th>percentage_of_trans_gender_definition_words</th>\n",
       "      <th>percentage_of_cis_gender_definition_words</th>\n",
       "    </tr>\n",
       "  </thead>\n",
       "  <tbody>\n",
       "    <tr>\n",
       "      <th>0</th>\n",
       "      <td>0</td>\n",
       "      <td>gpt-3.5-turbo-0125</td>\n",
       "      <td>beer</td>\n",
       "      <td>0.0</td>\n",
       "      <td>0.0</td>\n",
       "      <td>0.0</td>\n",
       "      <td>1.0</td>\n",
       "      <td>1.0</td>\n",
       "      <td>0.0</td>\n",
       "    </tr>\n",
       "    <tr>\n",
       "      <th>1</th>\n",
       "      <td>1</td>\n",
       "      <td>gpt-3.5-turbo-0125</td>\n",
       "      <td>chocolate</td>\n",
       "      <td>0.0</td>\n",
       "      <td>0.0</td>\n",
       "      <td>0.0</td>\n",
       "      <td>1.0</td>\n",
       "      <td>1.0</td>\n",
       "      <td>0.0</td>\n",
       "    </tr>\n",
       "  </tbody>\n",
       "</table>\n",
       "</div>"
      ],
      "text/plain": [
       "   Unnamed: 0               model    product  genbit_score  \\\n",
       "0           0  gpt-3.5-turbo-0125       beer           0.0   \n",
       "1           1  gpt-3.5-turbo-0125  chocolate           0.0   \n",
       "\n",
       "   percentage_of_female_gender_definition_words  \\\n",
       "0                                           0.0   \n",
       "1                                           0.0   \n",
       "\n",
       "   percentage_of_male_gender_definition_words  \\\n",
       "0                                         0.0   \n",
       "1                                         0.0   \n",
       "\n",
       "   percentage_of_non_binary_gender_definition_words  \\\n",
       "0                                               1.0   \n",
       "1                                               1.0   \n",
       "\n",
       "   percentage_of_trans_gender_definition_words  \\\n",
       "0                                          1.0   \n",
       "1                                          1.0   \n",
       "\n",
       "   percentage_of_cis_gender_definition_words  \n",
       "0                                        0.0  \n",
       "1                                        0.0  "
      ]
     },
     "execution_count": 10,
     "metadata": {},
     "output_type": "execute_result"
    }
   ],
   "source": [
    "product_metrics.sort_values(by=[\"percentage_of_non_binary_gender_definition_words\"], ascending=False)[0:10]"
   ]
  },
  {
   "cell_type": "code",
   "execution_count": 11,
   "id": "c9dca01b-2d6f-4005-bbd1-7955bc64bad2",
   "metadata": {},
   "outputs": [
    {
     "data": {
      "text/html": [
       "<div>\n",
       "<style scoped>\n",
       "    .dataframe tbody tr th:only-of-type {\n",
       "        vertical-align: middle;\n",
       "    }\n",
       "\n",
       "    .dataframe tbody tr th {\n",
       "        vertical-align: top;\n",
       "    }\n",
       "\n",
       "    .dataframe thead th {\n",
       "        text-align: right;\n",
       "    }\n",
       "</style>\n",
       "<table border=\"1\" class=\"dataframe\">\n",
       "  <thead>\n",
       "    <tr style=\"text-align: right;\">\n",
       "      <th></th>\n",
       "      <th>Unnamed: 0</th>\n",
       "      <th>model</th>\n",
       "      <th>product</th>\n",
       "      <th>genbit_score</th>\n",
       "      <th>percentage_of_female_gender_definition_words</th>\n",
       "      <th>percentage_of_male_gender_definition_words</th>\n",
       "      <th>percentage_of_non_binary_gender_definition_words</th>\n",
       "      <th>percentage_of_trans_gender_definition_words</th>\n",
       "      <th>percentage_of_cis_gender_definition_words</th>\n",
       "    </tr>\n",
       "  </thead>\n",
       "  <tbody>\n",
       "  </tbody>\n",
       "</table>\n",
       "</div>"
      ],
      "text/plain": [
       "Empty DataFrame\n",
       "Columns: [Unnamed: 0, model, product, genbit_score, percentage_of_female_gender_definition_words, percentage_of_male_gender_definition_words, percentage_of_non_binary_gender_definition_words, percentage_of_trans_gender_definition_words, percentage_of_cis_gender_definition_words]\n",
       "Index: []"
      ]
     },
     "execution_count": 11,
     "metadata": {},
     "output_type": "execute_result"
    }
   ],
   "source": [
    "product_metrics[(product_metrics['model']=='gpt-4-0613') & (product_metrics['genbit_score']>1.5)]"
   ]
  },
  {
   "cell_type": "markdown",
   "id": "794b4817",
   "metadata": {},
   "source": [
    "## Plot Overall Statistics by Model"
   ]
  },
  {
   "cell_type": "markdown",
   "id": "b2d42ed3-0339-4194-a7e6-ceed3c67548b",
   "metadata": {},
   "source": [
    "### Distribution of Genbit Scores"
   ]
  },
  {
   "cell_type": "code",
   "execution_count": 12,
   "id": "7b5c6c96-2e1d-4283-974a-6749cf627e2d",
   "metadata": {},
   "outputs": [
    {
     "data": {
      "application/vnd.plotly.v1+json": {
       "config": {
        "plotlyServerURL": "https://plot.ly"
       },
       "data": [
        {
         "alignmentgroup": "True",
         "boxpoints": "all",
         "customdata": [
          [
           "beer"
          ],
          [
           "chocolate"
          ]
         ],
         "hovertemplate": "model=%{x}<br>genbit_score=%{y}<br>product=%{customdata[0]}<extra></extra>",
         "legendgroup": "gpt-3.5-turbo-0125",
         "marker": {
          "color": "#CE0099"
         },
         "name": "gpt-3.5-turbo-0125",
         "notched": false,
         "offsetgroup": "gpt-3.5-turbo-0125",
         "orientation": "v",
         "showlegend": true,
         "type": "box",
         "x": [
          "gpt-3.5-turbo-0125",
          "gpt-3.5-turbo-0125"
         ],
         "x0": " ",
         "xaxis": "x",
         "y": [
          0,
          0
         ],
         "y0": " ",
         "yaxis": "y"
        }
       ],
       "layout": {
        "boxmode": "overlay",
        "font": {
         "size": 18
        },
        "height": 600,
        "legend": {
         "title": {
          "text": "model"
         },
         "tracegroupgap": 0
        },
        "template": {
         "data": {
          "bar": [
           {
            "error_x": {
             "color": "#2a3f5f"
            },
            "error_y": {
             "color": "#2a3f5f"
            },
            "marker": {
             "line": {
              "color": "#E5ECF6",
              "width": 0.5
             },
             "pattern": {
              "fillmode": "overlay",
              "size": 10,
              "solidity": 0.2
             }
            },
            "type": "bar"
           }
          ],
          "barpolar": [
           {
            "marker": {
             "line": {
              "color": "#E5ECF6",
              "width": 0.5
             },
             "pattern": {
              "fillmode": "overlay",
              "size": 10,
              "solidity": 0.2
             }
            },
            "type": "barpolar"
           }
          ],
          "carpet": [
           {
            "aaxis": {
             "endlinecolor": "#2a3f5f",
             "gridcolor": "white",
             "linecolor": "white",
             "minorgridcolor": "white",
             "startlinecolor": "#2a3f5f"
            },
            "baxis": {
             "endlinecolor": "#2a3f5f",
             "gridcolor": "white",
             "linecolor": "white",
             "minorgridcolor": "white",
             "startlinecolor": "#2a3f5f"
            },
            "type": "carpet"
           }
          ],
          "choropleth": [
           {
            "colorbar": {
             "outlinewidth": 0,
             "ticks": ""
            },
            "type": "choropleth"
           }
          ],
          "contour": [
           {
            "colorbar": {
             "outlinewidth": 0,
             "ticks": ""
            },
            "colorscale": [
             [
              0,
              "#0d0887"
             ],
             [
              0.1111111111111111,
              "#46039f"
             ],
             [
              0.2222222222222222,
              "#7201a8"
             ],
             [
              0.3333333333333333,
              "#9c179e"
             ],
             [
              0.4444444444444444,
              "#bd3786"
             ],
             [
              0.5555555555555556,
              "#d8576b"
             ],
             [
              0.6666666666666666,
              "#ed7953"
             ],
             [
              0.7777777777777778,
              "#fb9f3a"
             ],
             [
              0.8888888888888888,
              "#fdca26"
             ],
             [
              1,
              "#f0f921"
             ]
            ],
            "type": "contour"
           }
          ],
          "contourcarpet": [
           {
            "colorbar": {
             "outlinewidth": 0,
             "ticks": ""
            },
            "type": "contourcarpet"
           }
          ],
          "heatmap": [
           {
            "colorbar": {
             "outlinewidth": 0,
             "ticks": ""
            },
            "colorscale": [
             [
              0,
              "#0d0887"
             ],
             [
              0.1111111111111111,
              "#46039f"
             ],
             [
              0.2222222222222222,
              "#7201a8"
             ],
             [
              0.3333333333333333,
              "#9c179e"
             ],
             [
              0.4444444444444444,
              "#bd3786"
             ],
             [
              0.5555555555555556,
              "#d8576b"
             ],
             [
              0.6666666666666666,
              "#ed7953"
             ],
             [
              0.7777777777777778,
              "#fb9f3a"
             ],
             [
              0.8888888888888888,
              "#fdca26"
             ],
             [
              1,
              "#f0f921"
             ]
            ],
            "type": "heatmap"
           }
          ],
          "heatmapgl": [
           {
            "colorbar": {
             "outlinewidth": 0,
             "ticks": ""
            },
            "colorscale": [
             [
              0,
              "#0d0887"
             ],
             [
              0.1111111111111111,
              "#46039f"
             ],
             [
              0.2222222222222222,
              "#7201a8"
             ],
             [
              0.3333333333333333,
              "#9c179e"
             ],
             [
              0.4444444444444444,
              "#bd3786"
             ],
             [
              0.5555555555555556,
              "#d8576b"
             ],
             [
              0.6666666666666666,
              "#ed7953"
             ],
             [
              0.7777777777777778,
              "#fb9f3a"
             ],
             [
              0.8888888888888888,
              "#fdca26"
             ],
             [
              1,
              "#f0f921"
             ]
            ],
            "type": "heatmapgl"
           }
          ],
          "histogram": [
           {
            "marker": {
             "pattern": {
              "fillmode": "overlay",
              "size": 10,
              "solidity": 0.2
             }
            },
            "type": "histogram"
           }
          ],
          "histogram2d": [
           {
            "colorbar": {
             "outlinewidth": 0,
             "ticks": ""
            },
            "colorscale": [
             [
              0,
              "#0d0887"
             ],
             [
              0.1111111111111111,
              "#46039f"
             ],
             [
              0.2222222222222222,
              "#7201a8"
             ],
             [
              0.3333333333333333,
              "#9c179e"
             ],
             [
              0.4444444444444444,
              "#bd3786"
             ],
             [
              0.5555555555555556,
              "#d8576b"
             ],
             [
              0.6666666666666666,
              "#ed7953"
             ],
             [
              0.7777777777777778,
              "#fb9f3a"
             ],
             [
              0.8888888888888888,
              "#fdca26"
             ],
             [
              1,
              "#f0f921"
             ]
            ],
            "type": "histogram2d"
           }
          ],
          "histogram2dcontour": [
           {
            "colorbar": {
             "outlinewidth": 0,
             "ticks": ""
            },
            "colorscale": [
             [
              0,
              "#0d0887"
             ],
             [
              0.1111111111111111,
              "#46039f"
             ],
             [
              0.2222222222222222,
              "#7201a8"
             ],
             [
              0.3333333333333333,
              "#9c179e"
             ],
             [
              0.4444444444444444,
              "#bd3786"
             ],
             [
              0.5555555555555556,
              "#d8576b"
             ],
             [
              0.6666666666666666,
              "#ed7953"
             ],
             [
              0.7777777777777778,
              "#fb9f3a"
             ],
             [
              0.8888888888888888,
              "#fdca26"
             ],
             [
              1,
              "#f0f921"
             ]
            ],
            "type": "histogram2dcontour"
           }
          ],
          "mesh3d": [
           {
            "colorbar": {
             "outlinewidth": 0,
             "ticks": ""
            },
            "type": "mesh3d"
           }
          ],
          "parcoords": [
           {
            "line": {
             "colorbar": {
              "outlinewidth": 0,
              "ticks": ""
             }
            },
            "type": "parcoords"
           }
          ],
          "pie": [
           {
            "automargin": true,
            "type": "pie"
           }
          ],
          "scatter": [
           {
            "fillpattern": {
             "fillmode": "overlay",
             "size": 10,
             "solidity": 0.2
            },
            "type": "scatter"
           }
          ],
          "scatter3d": [
           {
            "line": {
             "colorbar": {
              "outlinewidth": 0,
              "ticks": ""
             }
            },
            "marker": {
             "colorbar": {
              "outlinewidth": 0,
              "ticks": ""
             }
            },
            "type": "scatter3d"
           }
          ],
          "scattercarpet": [
           {
            "marker": {
             "colorbar": {
              "outlinewidth": 0,
              "ticks": ""
             }
            },
            "type": "scattercarpet"
           }
          ],
          "scattergeo": [
           {
            "marker": {
             "colorbar": {
              "outlinewidth": 0,
              "ticks": ""
             }
            },
            "type": "scattergeo"
           }
          ],
          "scattergl": [
           {
            "marker": {
             "colorbar": {
              "outlinewidth": 0,
              "ticks": ""
             }
            },
            "type": "scattergl"
           }
          ],
          "scattermapbox": [
           {
            "marker": {
             "colorbar": {
              "outlinewidth": 0,
              "ticks": ""
             }
            },
            "type": "scattermapbox"
           }
          ],
          "scatterpolar": [
           {
            "marker": {
             "colorbar": {
              "outlinewidth": 0,
              "ticks": ""
             }
            },
            "type": "scatterpolar"
           }
          ],
          "scatterpolargl": [
           {
            "marker": {
             "colorbar": {
              "outlinewidth": 0,
              "ticks": ""
             }
            },
            "type": "scatterpolargl"
           }
          ],
          "scatterternary": [
           {
            "marker": {
             "colorbar": {
              "outlinewidth": 0,
              "ticks": ""
             }
            },
            "type": "scatterternary"
           }
          ],
          "surface": [
           {
            "colorbar": {
             "outlinewidth": 0,
             "ticks": ""
            },
            "colorscale": [
             [
              0,
              "#0d0887"
             ],
             [
              0.1111111111111111,
              "#46039f"
             ],
             [
              0.2222222222222222,
              "#7201a8"
             ],
             [
              0.3333333333333333,
              "#9c179e"
             ],
             [
              0.4444444444444444,
              "#bd3786"
             ],
             [
              0.5555555555555556,
              "#d8576b"
             ],
             [
              0.6666666666666666,
              "#ed7953"
             ],
             [
              0.7777777777777778,
              "#fb9f3a"
             ],
             [
              0.8888888888888888,
              "#fdca26"
             ],
             [
              1,
              "#f0f921"
             ]
            ],
            "type": "surface"
           }
          ],
          "table": [
           {
            "cells": {
             "fill": {
              "color": "#EBF0F8"
             },
             "line": {
              "color": "white"
             }
            },
            "header": {
             "fill": {
              "color": "#C8D4E3"
             },
             "line": {
              "color": "white"
             }
            },
            "type": "table"
           }
          ]
         },
         "layout": {
          "annotationdefaults": {
           "arrowcolor": "#2a3f5f",
           "arrowhead": 0,
           "arrowwidth": 1
          },
          "autotypenumbers": "strict",
          "coloraxis": {
           "colorbar": {
            "outlinewidth": 0,
            "ticks": ""
           }
          },
          "colorscale": {
           "diverging": [
            [
             0,
             "#8e0152"
            ],
            [
             0.1,
             "#c51b7d"
            ],
            [
             0.2,
             "#de77ae"
            ],
            [
             0.3,
             "#f1b6da"
            ],
            [
             0.4,
             "#fde0ef"
            ],
            [
             0.5,
             "#f7f7f7"
            ],
            [
             0.6,
             "#e6f5d0"
            ],
            [
             0.7,
             "#b8e186"
            ],
            [
             0.8,
             "#7fbc41"
            ],
            [
             0.9,
             "#4d9221"
            ],
            [
             1,
             "#276419"
            ]
           ],
           "sequential": [
            [
             0,
             "#0d0887"
            ],
            [
             0.1111111111111111,
             "#46039f"
            ],
            [
             0.2222222222222222,
             "#7201a8"
            ],
            [
             0.3333333333333333,
             "#9c179e"
            ],
            [
             0.4444444444444444,
             "#bd3786"
            ],
            [
             0.5555555555555556,
             "#d8576b"
            ],
            [
             0.6666666666666666,
             "#ed7953"
            ],
            [
             0.7777777777777778,
             "#fb9f3a"
            ],
            [
             0.8888888888888888,
             "#fdca26"
            ],
            [
             1,
             "#f0f921"
            ]
           ],
           "sequentialminus": [
            [
             0,
             "#0d0887"
            ],
            [
             0.1111111111111111,
             "#46039f"
            ],
            [
             0.2222222222222222,
             "#7201a8"
            ],
            [
             0.3333333333333333,
             "#9c179e"
            ],
            [
             0.4444444444444444,
             "#bd3786"
            ],
            [
             0.5555555555555556,
             "#d8576b"
            ],
            [
             0.6666666666666666,
             "#ed7953"
            ],
            [
             0.7777777777777778,
             "#fb9f3a"
            ],
            [
             0.8888888888888888,
             "#fdca26"
            ],
            [
             1,
             "#f0f921"
            ]
           ]
          },
          "colorway": [
           "#636efa",
           "#EF553B",
           "#00cc96",
           "#ab63fa",
           "#FFA15A",
           "#19d3f3",
           "#FF6692",
           "#B6E880",
           "#FF97FF",
           "#FECB52"
          ],
          "font": {
           "color": "#2a3f5f"
          },
          "geo": {
           "bgcolor": "white",
           "lakecolor": "white",
           "landcolor": "#E5ECF6",
           "showlakes": true,
           "showland": true,
           "subunitcolor": "white"
          },
          "hoverlabel": {
           "align": "left"
          },
          "hovermode": "closest",
          "mapbox": {
           "style": "light"
          },
          "paper_bgcolor": "white",
          "plot_bgcolor": "#E5ECF6",
          "polar": {
           "angularaxis": {
            "gridcolor": "white",
            "linecolor": "white",
            "ticks": ""
           },
           "bgcolor": "#E5ECF6",
           "radialaxis": {
            "gridcolor": "white",
            "linecolor": "white",
            "ticks": ""
           }
          },
          "scene": {
           "xaxis": {
            "backgroundcolor": "#E5ECF6",
            "gridcolor": "white",
            "gridwidth": 2,
            "linecolor": "white",
            "showbackground": true,
            "ticks": "",
            "zerolinecolor": "white"
           },
           "yaxis": {
            "backgroundcolor": "#E5ECF6",
            "gridcolor": "white",
            "gridwidth": 2,
            "linecolor": "white",
            "showbackground": true,
            "ticks": "",
            "zerolinecolor": "white"
           },
           "zaxis": {
            "backgroundcolor": "#E5ECF6",
            "gridcolor": "white",
            "gridwidth": 2,
            "linecolor": "white",
            "showbackground": true,
            "ticks": "",
            "zerolinecolor": "white"
           }
          },
          "shapedefaults": {
           "line": {
            "color": "#2a3f5f"
           }
          },
          "ternary": {
           "aaxis": {
            "gridcolor": "white",
            "linecolor": "white",
            "ticks": ""
           },
           "baxis": {
            "gridcolor": "white",
            "linecolor": "white",
            "ticks": ""
           },
           "bgcolor": "#E5ECF6",
           "caxis": {
            "gridcolor": "white",
            "linecolor": "white",
            "ticks": ""
           }
          },
          "title": {
           "x": 0.05
          },
          "xaxis": {
           "automargin": true,
           "gridcolor": "white",
           "linecolor": "white",
           "ticks": "",
           "title": {
            "standoff": 15
           },
           "zerolinecolor": "white",
           "zerolinewidth": 2
          },
          "yaxis": {
           "automargin": true,
           "gridcolor": "white",
           "linecolor": "white",
           "ticks": "",
           "title": {
            "standoff": 15
           },
           "zerolinecolor": "white",
           "zerolinewidth": 2
          }
         }
        },
        "title": {
         "text": "Distribution of Genbit Score by Model"
        },
        "width": 1000,
        "xaxis": {
         "anchor": "y",
         "categoryarray": [
          "Bard - PaLM",
          "gpt-3.5-turbo-0301",
          "gpt-4-0613",
          "gpt-3.5-turbo-0125"
         ],
         "categoryorder": "array",
         "domain": [
          0,
          1
         ],
         "title": {
          "text": "model"
         }
        },
        "yaxis": {
         "anchor": "x",
         "domain": [
          0,
          1
         ],
         "title": {
          "text": "genbit_score"
         }
        }
       }
      }
     },
     "metadata": {},
     "output_type": "display_data"
    }
   ],
   "source": [
    "fig = px.box(product_metrics, x=\"model\", y = \"genbit_score\", points=\"all\", hover_data=[\"product\"], \n",
    "             title=\"Distribution of Genbit Score by Model\", category_orders={'model':['Bard - PaLM','gpt-3.5-turbo-0301','gpt-4-0613']}, \n",
    "             height=600, width=1000, color='model',color_discrete_sequence=[\"#CE0099\",\"#8854FC\",\"#00CEC3\"])\n",
    "\n",
    "fig.update_layout(font=dict(size=18))\n",
    "\n",
    "fig.show()"
   ]
  },
  {
   "cell_type": "markdown",
   "id": "a00e5f79-1e32-447c-b4cc-c6a8145646c4",
   "metadata": {},
   "source": [
    "### Female v Male Words"
   ]
  },
  {
   "cell_type": "code",
   "execution_count": 13,
   "id": "ca9db6bf",
   "metadata": {},
   "outputs": [
    {
     "ename": "KeyError",
     "evalue": "'Bard - PaLM'",
     "output_type": "error",
     "traceback": [
      "\u001b[1;31m---------------------------------------------------------------------------\u001b[0m",
      "\u001b[1;31mKeyError\u001b[0m                                  Traceback (most recent call last)",
      "\u001b[1;32m~\\AppData\\Local\\Temp\\ipykernel_28876\\3913558352.py\u001b[0m in \u001b[0;36m?\u001b[1;34m()\u001b[0m\n\u001b[1;32m----> 1\u001b[1;33m \u001b[0mfemale_words\u001b[0m \u001b[1;33m=\u001b[0m \u001b[0mproduct_metrics\u001b[0m\u001b[1;33m.\u001b[0m\u001b[0mpivot\u001b[0m\u001b[1;33m(\u001b[0m\u001b[0mindex\u001b[0m\u001b[1;33m=\u001b[0m\u001b[1;34m\"product\"\u001b[0m\u001b[1;33m,\u001b[0m\u001b[0mcolumns\u001b[0m\u001b[1;33m=\u001b[0m\u001b[1;34m\"model\"\u001b[0m\u001b[1;33m,\u001b[0m\u001b[0mvalues\u001b[0m\u001b[1;33m=\u001b[0m\u001b[1;34m\"percentage_of_female_gender_definition_words\"\u001b[0m\u001b[1;33m)\u001b[0m\u001b[1;33m.\u001b[0m\u001b[0msort_values\u001b[0m\u001b[1;33m(\u001b[0m\u001b[0mby\u001b[0m\u001b[1;33m=\u001b[0m\u001b[1;33m[\u001b[0m\u001b[1;34m\"Bard - PaLM\"\u001b[0m\u001b[1;33m]\u001b[0m\u001b[1;33m,\u001b[0m\u001b[0mascending\u001b[0m\u001b[1;33m=\u001b[0m\u001b[1;32mFalse\u001b[0m\u001b[1;33m)\u001b[0m\u001b[1;33m\u001b[0m\u001b[1;33m\u001b[0m\u001b[0m\n\u001b[0m\u001b[0;32m      2\u001b[0m \u001b[0mmale_words\u001b[0m \u001b[1;33m=\u001b[0m \u001b[0mproduct_metrics\u001b[0m\u001b[1;33m.\u001b[0m\u001b[0mpivot\u001b[0m\u001b[1;33m(\u001b[0m\u001b[0mindex\u001b[0m\u001b[1;33m=\u001b[0m\u001b[1;34m\"product\"\u001b[0m\u001b[1;33m,\u001b[0m\u001b[0mcolumns\u001b[0m\u001b[1;33m=\u001b[0m\u001b[1;34m\"model\"\u001b[0m\u001b[1;33m,\u001b[0m\u001b[0mvalues\u001b[0m\u001b[1;33m=\u001b[0m\u001b[1;34m\"percentage_of_male_gender_definition_words\"\u001b[0m\u001b[1;33m)\u001b[0m\u001b[1;33m.\u001b[0m\u001b[0msort_values\u001b[0m\u001b[1;33m(\u001b[0m\u001b[0mby\u001b[0m\u001b[1;33m=\u001b[0m\u001b[1;33m[\u001b[0m\u001b[1;34m\"Bard - PaLM\"\u001b[0m\u001b[1;33m]\u001b[0m\u001b[1;33m,\u001b[0m\u001b[0mascending\u001b[0m\u001b[1;33m=\u001b[0m\u001b[1;32mFalse\u001b[0m\u001b[1;33m)\u001b[0m\u001b[1;33m\u001b[0m\u001b[1;33m\u001b[0m\u001b[0m\n\u001b[0;32m      3\u001b[0m \u001b[0mnon_binary_words\u001b[0m \u001b[1;33m=\u001b[0m \u001b[0mproduct_metrics\u001b[0m\u001b[1;33m.\u001b[0m\u001b[0mpivot\u001b[0m\u001b[1;33m(\u001b[0m\u001b[0mindex\u001b[0m\u001b[1;33m=\u001b[0m\u001b[1;34m\"product\"\u001b[0m\u001b[1;33m,\u001b[0m\u001b[0mcolumns\u001b[0m\u001b[1;33m=\u001b[0m\u001b[1;34m\"model\"\u001b[0m\u001b[1;33m,\u001b[0m\u001b[0mvalues\u001b[0m\u001b[1;33m=\u001b[0m\u001b[1;34m\"percentage_of_non_binary_gender_definition_words\"\u001b[0m\u001b[1;33m)\u001b[0m\u001b[1;33m.\u001b[0m\u001b[0msort_values\u001b[0m\u001b[1;33m(\u001b[0m\u001b[0mby\u001b[0m\u001b[1;33m=\u001b[0m\u001b[1;33m[\u001b[0m\u001b[1;34m\"Bard - PaLM\"\u001b[0m\u001b[1;33m]\u001b[0m\u001b[1;33m,\u001b[0m\u001b[0mascending\u001b[0m\u001b[1;33m=\u001b[0m\u001b[1;32mFalse\u001b[0m\u001b[1;33m)\u001b[0m\u001b[1;33m\u001b[0m\u001b[1;33m\u001b[0m\u001b[0m\n",
      "\u001b[1;32m~\\AppData\\Local\\Packages\\PythonSoftwareFoundation.Python.3.11_qbz5n2kfra8p0\\LocalCache\\local-packages\\Python311\\site-packages\\pandas\\core\\frame.py\u001b[0m in \u001b[0;36m?\u001b[1;34m(self, by, axis, ascending, inplace, kind, na_position, ignore_index, key)\u001b[0m\n\u001b[0;32m   6940\u001b[0m             )\n\u001b[0;32m   6941\u001b[0m         \u001b[1;32melif\u001b[0m \u001b[0mlen\u001b[0m\u001b[1;33m(\u001b[0m\u001b[0mby\u001b[0m\u001b[1;33m)\u001b[0m\u001b[1;33m:\u001b[0m\u001b[1;33m\u001b[0m\u001b[1;33m\u001b[0m\u001b[0m\n\u001b[0;32m   6942\u001b[0m             \u001b[1;31m# len(by) == 1\u001b[0m\u001b[1;33m\u001b[0m\u001b[1;33m\u001b[0m\u001b[0m\n\u001b[0;32m   6943\u001b[0m \u001b[1;33m\u001b[0m\u001b[0m\n\u001b[1;32m-> 6944\u001b[1;33m             \u001b[0mk\u001b[0m \u001b[1;33m=\u001b[0m \u001b[0mself\u001b[0m\u001b[1;33m.\u001b[0m\u001b[0m_get_label_or_level_values\u001b[0m\u001b[1;33m(\u001b[0m\u001b[0mby\u001b[0m\u001b[1;33m[\u001b[0m\u001b[1;36m0\u001b[0m\u001b[1;33m]\u001b[0m\u001b[1;33m,\u001b[0m \u001b[0maxis\u001b[0m\u001b[1;33m=\u001b[0m\u001b[0maxis\u001b[0m\u001b[1;33m)\u001b[0m\u001b[1;33m\u001b[0m\u001b[1;33m\u001b[0m\u001b[0m\n\u001b[0m\u001b[0;32m   6945\u001b[0m \u001b[1;33m\u001b[0m\u001b[0m\n\u001b[0;32m   6946\u001b[0m             \u001b[1;31m# need to rewrap column in Series to apply key function\u001b[0m\u001b[1;33m\u001b[0m\u001b[1;33m\u001b[0m\u001b[0m\n\u001b[0;32m   6947\u001b[0m             \u001b[1;32mif\u001b[0m \u001b[0mkey\u001b[0m \u001b[1;32mis\u001b[0m \u001b[1;32mnot\u001b[0m \u001b[1;32mNone\u001b[0m\u001b[1;33m:\u001b[0m\u001b[1;33m\u001b[0m\u001b[1;33m\u001b[0m\u001b[0m\n",
      "\u001b[1;32m~\\AppData\\Local\\Packages\\PythonSoftwareFoundation.Python.3.11_qbz5n2kfra8p0\\LocalCache\\local-packages\\Python311\\site-packages\\pandas\\core\\generic.py\u001b[0m in \u001b[0;36m?\u001b[1;34m(self, key, axis)\u001b[0m\n\u001b[0;32m   1840\u001b[0m             \u001b[0mvalues\u001b[0m \u001b[1;33m=\u001b[0m \u001b[0mself\u001b[0m\u001b[1;33m.\u001b[0m\u001b[0mxs\u001b[0m\u001b[1;33m(\u001b[0m\u001b[0mkey\u001b[0m\u001b[1;33m,\u001b[0m \u001b[0maxis\u001b[0m\u001b[1;33m=\u001b[0m\u001b[0mother_axes\u001b[0m\u001b[1;33m[\u001b[0m\u001b[1;36m0\u001b[0m\u001b[1;33m]\u001b[0m\u001b[1;33m)\u001b[0m\u001b[1;33m.\u001b[0m\u001b[0m_values\u001b[0m\u001b[1;33m\u001b[0m\u001b[1;33m\u001b[0m\u001b[0m\n\u001b[0;32m   1841\u001b[0m         \u001b[1;32melif\u001b[0m \u001b[0mself\u001b[0m\u001b[1;33m.\u001b[0m\u001b[0m_is_level_reference\u001b[0m\u001b[1;33m(\u001b[0m\u001b[0mkey\u001b[0m\u001b[1;33m,\u001b[0m \u001b[0maxis\u001b[0m\u001b[1;33m=\u001b[0m\u001b[0maxis\u001b[0m\u001b[1;33m)\u001b[0m\u001b[1;33m:\u001b[0m\u001b[1;33m\u001b[0m\u001b[1;33m\u001b[0m\u001b[0m\n\u001b[0;32m   1842\u001b[0m             \u001b[0mvalues\u001b[0m \u001b[1;33m=\u001b[0m \u001b[0mself\u001b[0m\u001b[1;33m.\u001b[0m\u001b[0maxes\u001b[0m\u001b[1;33m[\u001b[0m\u001b[0maxis\u001b[0m\u001b[1;33m]\u001b[0m\u001b[1;33m.\u001b[0m\u001b[0mget_level_values\u001b[0m\u001b[1;33m(\u001b[0m\u001b[0mkey\u001b[0m\u001b[1;33m)\u001b[0m\u001b[1;33m.\u001b[0m\u001b[0m_values\u001b[0m\u001b[1;33m\u001b[0m\u001b[1;33m\u001b[0m\u001b[0m\n\u001b[0;32m   1843\u001b[0m         \u001b[1;32melse\u001b[0m\u001b[1;33m:\u001b[0m\u001b[1;33m\u001b[0m\u001b[1;33m\u001b[0m\u001b[0m\n\u001b[1;32m-> 1844\u001b[1;33m             \u001b[1;32mraise\u001b[0m \u001b[0mKeyError\u001b[0m\u001b[1;33m(\u001b[0m\u001b[0mkey\u001b[0m\u001b[1;33m)\u001b[0m\u001b[1;33m\u001b[0m\u001b[1;33m\u001b[0m\u001b[0m\n\u001b[0m\u001b[0;32m   1845\u001b[0m \u001b[1;33m\u001b[0m\u001b[0m\n\u001b[0;32m   1846\u001b[0m         \u001b[1;31m# Check for duplicates\u001b[0m\u001b[1;33m\u001b[0m\u001b[1;33m\u001b[0m\u001b[0m\n\u001b[0;32m   1847\u001b[0m         \u001b[1;32mif\u001b[0m \u001b[0mvalues\u001b[0m\u001b[1;33m.\u001b[0m\u001b[0mndim\u001b[0m \u001b[1;33m>\u001b[0m \u001b[1;36m1\u001b[0m\u001b[1;33m:\u001b[0m\u001b[1;33m\u001b[0m\u001b[1;33m\u001b[0m\u001b[0m\n",
      "\u001b[1;31mKeyError\u001b[0m: 'Bard - PaLM'"
     ]
    }
   ],
   "source": [
    "female_words = product_metrics.pivot(index=\"product\",columns=\"model\",values=\"percentage_of_female_gender_definition_words\").sort_values(by=[\"Bard - PaLM\"],ascending=False)\n",
    "male_words = product_metrics.pivot(index=\"product\",columns=\"model\",values=\"percentage_of_male_gender_definition_words\").sort_values(by=[\"Bard - PaLM\"],ascending=False)\n",
    "non_binary_words = product_metrics.pivot(index=\"product\",columns=\"model\",values=\"percentage_of_non_binary_gender_definition_words\").sort_values(by=[\"Bard - PaLM\"],ascending=False)"
   ]
  },
  {
   "cell_type": "code",
   "execution_count": 13,
   "id": "f2bae4d5",
   "metadata": {},
   "outputs": [],
   "source": [
    "female_plot = female_words[0:10].sort_values(by=[\"gpt-3.5-turbo-0301\"],ascending=True).plot_bokeh.barh(\n",
    "                          y=[\"Bard - PaLM\",\"gpt-3.5-turbo-0301\",\"gpt-4-0613\"],\n",
    "                        xlabel=\"Percentage of Female Definition Words\",ylabel=\"Product\", \n",
    "                        title=\"Percentage of Female Words\",\n",
    "                        figsize=(500,500),\n",
    "                        colormap = [\"#00CEC3\",\"#8854FC\",\"#CE0099\"],\n",
    "                        legend = \"bottom_right\",\n",
    "                        fontsize_label=\"10pt\",\n",
    "                        fontsize_ticks=\"10pt\",\n",
    "                        fontsize_title=\"12pt\",\n",
    "                        show_figure=False\n",
    "                          )"
   ]
  },
  {
   "cell_type": "code",
   "execution_count": 14,
   "id": "88f13132-eddf-401a-aec1-19a814960521",
   "metadata": {},
   "outputs": [],
   "source": [
    "male_plot = male_words[0:10].sort_values(by=[\"gpt-3.5-turbo-0301\"],ascending=True).plot_bokeh.barh(\n",
    "                          y=[\"Bard - PaLM\",\"gpt-3.5-turbo-0301\",\"gpt-4-0613\"],\n",
    "                        xlabel=\"Percentage of Male Definition Words\",ylabel=\"Product\", \n",
    "                        title=\"Percentage of Male Words\",\n",
    "                        figsize=(500,500),\n",
    "                        colormap = [\"#00CEC3\",\"#8854FC\",\"#CE0099\"],\n",
    "                        legend = \"bottom_right\",\n",
    "                        fontsize_label=\"10pt\",\n",
    "                        fontsize_ticks=\"10pt\",\n",
    "                        fontsize_title=\"12pt\",\n",
    "                        show_figure=False\n",
    "                          )"
   ]
  },
  {
   "cell_type": "code",
   "execution_count": 15,
   "id": "61db3e6b",
   "metadata": {},
   "outputs": [],
   "source": [
    "non_binary_plot = non_binary_words[0:10].sort_values(by=[\"Bard - PaLM\"],ascending=True).plot_bokeh.barh(\n",
    "                          y=[\"Bard - PaLM\",\"gpt-3.5-turbo-0301\",\"gpt-4-0613\"],\n",
    "                        xlabel=\"Percentage of Non-Binary Definition Words\",ylabel=\"Product\", \n",
    "                        title=\"Percentage of Non-Binary Words\",\n",
    "                        figsize=(500,500),\n",
    "                        colormap = [\"#00CEC3\",\"#8854FC\",\"#CE0099\"],\n",
    "                        legend = \"bottom_right\",\n",
    "                        fontsize_label=\"10pt\",\n",
    "                        fontsize_ticks=\"10pt\",\n",
    "                        fontsize_title=\"12pt\",\n",
    "                        show_figure=False\n",
    "                          )"
   ]
  },
  {
   "cell_type": "code",
   "execution_count": 16,
   "id": "4e6cd2c0",
   "metadata": {},
   "outputs": [
    {
     "data": {
      "text/html": [
       "\n",
       "  <div class=\"bk-root\" id=\"c0b73457-290a-47dd-9c7b-fa2a54fc4067\" data-root-id=\"1417\"></div>\n"
      ]
     },
     "metadata": {},
     "output_type": "display_data"
    },
    {
     "data": {
      "application/javascript": "(function(root) {\n  function embed_document(root) {\n  const docs_json = {\"0c6840a0-f405-47b6-900c-66e0f75c0e7c\":{\"defs\":[],\"roots\":{\"references\":[{\"attributes\":{\"children\":[{\"id\":\"1416\"},{\"id\":\"1414\"}]},\"id\":\"1417\",\"type\":\"Column\"},{\"attributes\":{\"ticks\":[0,1,2,3,4,5,6,7,8,9]},\"id\":\"1132\",\"type\":\"FixedTicker\"},{\"attributes\":{\"coordinates\":null,\"data_source\":{\"id\":\"1038\"},\"glyph\":{\"id\":\"1096\"},\"group\":null,\"hover_glyph\":null,\"muted_glyph\":{\"id\":\"1098\"},\"nonselection_glyph\":{\"id\":\"1097\"},\"view\":{\"id\":\"1100\"}},\"id\":\"1099\",\"type\":\"GlyphRenderer\"},{\"attributes\":{\"coordinates\":null,\"data_source\":{\"id\":\"1169\"},\"glyph\":{\"id\":\"1227\"},\"group\":null,\"hover_glyph\":null,\"muted_glyph\":{\"id\":\"1229\"},\"nonselection_glyph\":{\"id\":\"1228\"},\"view\":{\"id\":\"1231\"}},\"id\":\"1230\",\"type\":\"GlyphRenderer\"},{\"attributes\":{\"fill_alpha\":{\"value\":0.2},\"fill_color\":{\"value\":\"#00CEC3\"},\"hatch_alpha\":{\"value\":0.2},\"hatch_color\":{\"value\":\"#00CEC3\"},\"height\":{\"value\":0.2},\"line_alpha\":{\"value\":0.2},\"line_color\":{\"value\":\"#00CEC3\"},\"line_width\":{\"value\":2},\"right\":{\"field\":\"Bard - PaLM\"},\"y\":{\"field\":\"__x__values\",\"transform\":{\"id\":\"1074\"}}},\"id\":\"1078\",\"type\":\"HBar\"},{\"attributes\":{},\"id\":\"1044\",\"type\":\"DataRange1d\"},{\"attributes\":{\"label\":{\"value\":\" gpt-3.5-turbo-0301\"},\"renderers\":[{\"id\":\"1099\"}]},\"id\":\"1110\",\"type\":\"LegendItem\"},{\"attributes\":{\"bottom_units\":\"screen\",\"coordinates\":null,\"fill_alpha\":0.5,\"fill_color\":\"lightgrey\",\"group\":null,\"left_units\":\"screen\",\"level\":\"overlay\",\"line_alpha\":1.0,\"line_color\":\"black\",\"line_dash\":[4,4],\"line_width\":2,\"right_units\":\"screen\",\"syncable\":false,\"top_units\":\"screen\"},\"id\":\"1064\",\"type\":\"BoxAnnotation\"},{\"attributes\":{\"data\":{\"Bard - PaLM\":{\"__ndarray__\":\"bzaDDI9Vtz/AibxdeB29P6L69/PtZLc/U1VVVVVVtT8vvmiwAFK+P81RgS+ufsA/ysDTrflh0T9DT6qvZH7WP08zYDQiQOg/9w1r37D27T8=\",\"dtype\":\"float64\",\"order\":\"little\",\"shape\":[10]},\"__x__values\":[0,1,2,3,4,5,6,7,8,9],\"__x__values_original\":[\"candles\",\"ice cream\",\"a supermarket\",\"a social network\",\"a science museum\",\"a diy store\",\"a golf club\",\"a games console\",\"electric drills\",\"a lawnmower\"],\"gpt-3.5-turbo-0301\":{\"__ndarray__\":\"IEmSJEmSpD8sN17RtMq3P0Br9+EWULg/zczMzMzMvD+DEEIIIYTAP3Dz5DsybNA/hrVvWPuG1T/RXkJ7Ce3VPwpbM84/PuA/PQrXo3A96j8=\",\"dtype\":\"float64\",\"order\":\"little\",\"shape\":[10]},\"gpt-4-0613\":{\"__ndarray__\":\"2waUiSvdmz+a6xjFuY7BP9WJndiJnbg/AAAAAAAAwD/HN0Nr9+GGPzvfT42XbtI/NNlkk002yT8JWchCFrKwPxzHcRzHceQ/AAAAAAAA5D8=\",\"dtype\":\"float64\",\"order\":\"little\",\"shape\":[10]}},\"selected\":{\"id\":\"1219\"},\"selection_policy\":{\"id\":\"1218\"}},\"id\":\"1169\",\"type\":\"ColumnDataSource\"},{\"attributes\":{\"label\":{\"value\":\" gpt-3.5-turbo-0301\"},\"renderers\":[{\"id\":\"1230\"}]},\"id\":\"1241\",\"type\":\"LegendItem\"},{\"attributes\":{\"source\":{\"id\":\"1038\"}},\"id\":\"1100\",\"type\":\"CDSView\"},{\"attributes\":{\"overlay\":{\"id\":\"1064\"}},\"id\":\"1060\",\"type\":\"BoxZoomTool\"},{\"attributes\":{\"source\":{\"id\":\"1169\"}},\"id\":\"1231\",\"type\":\"CDSView\"},{\"attributes\":{},\"id\":\"1061\",\"type\":\"SaveTool\"},{\"attributes\":{},\"id\":\"1062\",\"type\":\"ResetTool\"},{\"attributes\":{},\"id\":\"1193\",\"type\":\"ResetTool\"},{\"attributes\":{},\"id\":\"1192\",\"type\":\"SaveTool\"},{\"attributes\":{\"overlay\":{\"id\":\"1195\"}},\"id\":\"1191\",\"type\":\"BoxZoomTool\"},{\"attributes\":{},\"id\":\"1189\",\"type\":\"PanTool\"},{\"attributes\":{},\"id\":\"1194\",\"type\":\"HelpTool\"},{\"attributes\":{\"axis_label\":\"Product\",\"axis_label_text_font_size\":\"10pt\",\"coordinates\":null,\"formatter\":{\"id\":\"1203\"},\"group\":null,\"major_label_policy\":{\"id\":\"1214\"},\"major_label_text_font_size\":\"10pt\",\"ticker\":{\"id\":\"1263\"}},\"id\":\"1185\",\"type\":\"LinearAxis\"},{\"attributes\":{\"axis\":{\"id\":\"1185\"},\"coordinates\":null,\"dimension\":1,\"group\":null,\"ticker\":null},\"id\":\"1188\",\"type\":\"Grid\"},{\"attributes\":{\"coordinates\":null,\"data_source\":{\"id\":\"1169\"},\"glyph\":{\"id\":\"1207\"},\"group\":null,\"hover_glyph\":null,\"muted_glyph\":{\"id\":\"1209\"},\"nonselection_glyph\":{\"id\":\"1208\"},\"view\":{\"id\":\"1211\"}},\"id\":\"1210\",\"type\":\"GlyphRenderer\"},{\"attributes\":{\"callback\":null,\"mode\":\"hline\",\"renderers\":[{\"id\":\"1230\"}],\"tooltips\":[[\"Product\",\"@__x__values_original\"],[\"gpt-3.5-turbo-0301\",\"@{gpt-3.5-turbo-0301}\"]]},\"id\":\"1242\",\"type\":\"HoverTool\"},{\"attributes\":{\"callback\":null,\"mode\":\"hline\",\"renderers\":[{\"id\":\"1099\"}],\"tooltips\":[[\"Product\",\"@__x__values_original\"],[\"gpt-3.5-turbo-0301\",\"@{gpt-3.5-turbo-0301}\"]]},\"id\":\"1111\",\"type\":\"HoverTool\"},{\"attributes\":{\"fill_alpha\":{\"value\":0.2},\"fill_color\":{\"value\":\"#CE0099\"},\"hatch_alpha\":{\"value\":0.2},\"hatch_color\":{\"value\":\"#CE0099\"},\"height\":{\"value\":0.2},\"line_alpha\":{\"value\":0.2},\"line_color\":{\"value\":\"#CE0099\"},\"line_width\":{\"value\":2},\"right\":{\"field\":\"gpt-4-0613\"},\"y\":{\"field\":\"__x__values\",\"transform\":{\"id\":\"1113\"}}},\"id\":\"1117\",\"type\":\"HBar\"},{\"attributes\":{\"click_policy\":\"hide\",\"coordinates\":null,\"group\":null,\"items\":[{\"id\":\"1222\"},{\"id\":\"1241\"},{\"id\":\"1260\"}],\"location\":\"bottom_right\"},\"id\":\"1221\",\"type\":\"Legend\"},{\"attributes\":{\"fill_alpha\":{\"value\":0.2},\"fill_color\":{\"value\":\"#CE0099\"},\"hatch_alpha\":{\"value\":0.2},\"hatch_color\":{\"value\":\"#CE0099\"},\"height\":{\"value\":0.2},\"line_alpha\":{\"value\":0.2},\"line_color\":{\"value\":\"#CE0099\"},\"line_width\":{\"value\":2},\"right\":{\"field\":\"gpt-4-0613\"},\"y\":{\"field\":\"__x__values\",\"transform\":{\"id\":\"1244\"}}},\"id\":\"1248\",\"type\":\"HBar\"},{\"attributes\":{\"range\":{\"id\":\"1044\"},\"value\":0.25},\"id\":\"1113\",\"type\":\"Dodge\"},{\"attributes\":{\"range\":{\"id\":\"1175\"},\"value\":0.25},\"id\":\"1244\",\"type\":\"Dodge\"},{\"attributes\":{},\"id\":\"1059\",\"type\":\"WheelZoomTool\"},{\"attributes\":{\"fill_alpha\":{\"value\":0.1},\"fill_color\":{\"value\":\"#CE0099\"},\"hatch_alpha\":{\"value\":0.1},\"hatch_color\":{\"value\":\"#CE0099\"},\"height\":{\"value\":0.2},\"line_alpha\":{\"value\":0.1},\"line_color\":{\"value\":\"#CE0099\"},\"line_width\":{\"value\":2},\"right\":{\"field\":\"gpt-4-0613\"},\"y\":{\"field\":\"__x__values\",\"transform\":{\"id\":\"1113\"}}},\"id\":\"1116\",\"type\":\"HBar\"},{\"attributes\":{\"fill_alpha\":{\"value\":0.1},\"fill_color\":{\"value\":\"#CE0099\"},\"hatch_alpha\":{\"value\":0.1},\"hatch_color\":{\"value\":\"#CE0099\"},\"height\":{\"value\":0.2},\"line_alpha\":{\"value\":0.1},\"line_color\":{\"value\":\"#CE0099\"},\"line_width\":{\"value\":2},\"right\":{\"field\":\"gpt-4-0613\"},\"y\":{\"field\":\"__x__values\",\"transform\":{\"id\":\"1244\"}}},\"id\":\"1247\",\"type\":\"HBar\"},{\"attributes\":{\"fill_color\":{\"value\":\"#CE0099\"},\"hatch_color\":{\"value\":\"#CE0099\"},\"height\":{\"value\":0.2},\"line_color\":{\"value\":\"#CE0099\"},\"line_width\":{\"value\":2},\"right\":{\"field\":\"gpt-4-0613\"},\"y\":{\"field\":\"__x__values\",\"transform\":{\"id\":\"1113\"}}},\"id\":\"1115\",\"type\":\"HBar\"},{\"attributes\":{\"fill_color\":{\"value\":\"#CE0099\"},\"hatch_color\":{\"value\":\"#CE0099\"},\"height\":{\"value\":0.2},\"line_color\":{\"value\":\"#CE0099\"},\"line_width\":{\"value\":2},\"right\":{\"field\":\"gpt-4-0613\"},\"y\":{\"field\":\"__x__values\",\"transform\":{\"id\":\"1244\"}}},\"id\":\"1246\",\"type\":\"HBar\"},{\"attributes\":{\"label\":{\"value\":\" gpt-4-0613\"},\"renderers\":[{\"id\":\"1118\"}]},\"id\":\"1129\",\"type\":\"LegendItem\"},{\"attributes\":{\"label\":{\"value\":\" gpt-4-0613\"},\"renderers\":[{\"id\":\"1249\"}]},\"id\":\"1260\",\"type\":\"LegendItem\"},{\"attributes\":{\"coordinates\":null,\"data_source\":{\"id\":\"1038\"},\"glyph\":{\"id\":\"1115\"},\"group\":null,\"hover_glyph\":null,\"muted_glyph\":{\"id\":\"1117\"},\"nonselection_glyph\":{\"id\":\"1116\"},\"view\":{\"id\":\"1119\"}},\"id\":\"1118\",\"type\":\"GlyphRenderer\"},{\"attributes\":{\"coordinates\":null,\"data_source\":{\"id\":\"1169\"},\"glyph\":{\"id\":\"1246\"},\"group\":null,\"hover_glyph\":null,\"muted_glyph\":{\"id\":\"1248\"},\"nonselection_glyph\":{\"id\":\"1247\"},\"view\":{\"id\":\"1250\"}},\"id\":\"1249\",\"type\":\"GlyphRenderer\"},{\"attributes\":{\"source\":{\"id\":\"1038\"}},\"id\":\"1119\",\"type\":\"CDSView\"},{\"attributes\":{\"source\":{\"id\":\"1169\"}},\"id\":\"1250\",\"type\":\"CDSView\"},{\"attributes\":{},\"id\":\"1088\",\"type\":\"Selection\"},{\"attributes\":{},\"id\":\"1087\",\"type\":\"UnionRenderers\"},{\"attributes\":{\"fill_alpha\":{\"value\":0.2},\"fill_color\":{\"value\":\"#00CEC3\"},\"hatch_alpha\":{\"value\":0.2},\"hatch_color\":{\"value\":\"#00CEC3\"},\"height\":{\"value\":0.2},\"line_alpha\":{\"value\":0.2},\"line_color\":{\"value\":\"#00CEC3\"},\"line_width\":{\"value\":2},\"right\":{\"field\":\"Bard - PaLM\"},\"y\":{\"field\":\"__x__values\",\"transform\":{\"id\":\"1205\"}}},\"id\":\"1209\",\"type\":\"HBar\"},{\"attributes\":{\"axis_label\":\"Percentage of Female Definition Words\",\"axis_label_text_font_size\":\"10pt\",\"coordinates\":null,\"formatter\":{\"id\":\"1085\"},\"group\":null,\"major_label_policy\":{\"id\":\"1086\"},\"major_label_text_font_size\":\"10pt\",\"ticker\":{\"id\":\"1051\"}},\"id\":\"1050\",\"type\":\"LinearAxis\"},{\"attributes\":{},\"id\":\"1086\",\"type\":\"AllLabels\"},{\"attributes\":{\"fill_alpha\":{\"value\":0.1},\"fill_color\":{\"value\":\"#00CEC3\"},\"hatch_alpha\":{\"value\":0.1},\"hatch_color\":{\"value\":\"#00CEC3\"},\"height\":{\"value\":0.2},\"line_alpha\":{\"value\":0.1},\"line_color\":{\"value\":\"#00CEC3\"},\"line_width\":{\"value\":2},\"right\":{\"field\":\"Bard - PaLM\"},\"y\":{\"field\":\"__x__values\",\"transform\":{\"id\":\"1205\"}}},\"id\":\"1208\",\"type\":\"HBar\"},{\"attributes\":{\"fill_alpha\":{\"value\":0.1},\"fill_color\":{\"value\":\"#8854FC\"},\"hatch_alpha\":{\"value\":0.1},\"hatch_color\":{\"value\":\"#8854FC\"},\"height\":{\"value\":0.2},\"line_alpha\":{\"value\":0.1},\"line_color\":{\"value\":\"#8854FC\"},\"line_width\":{\"value\":2},\"right\":{\"field\":\"gpt-3.5-turbo-0301\"},\"y\":{\"field\":\"__x__values\",\"transform\":{\"id\":\"1225\"}}},\"id\":\"1228\",\"type\":\"HBar\"},{\"attributes\":{\"coordinates\":null,\"group\":null,\"text\":\"Percentage of Female Words\",\"text_font_size\":\"12pt\"},\"id\":\"1040\",\"type\":\"Title\"},{\"attributes\":{},\"id\":\"1085\",\"type\":\"BasicTickFormatter\"},{\"attributes\":{\"callback\":null,\"mode\":\"hline\",\"renderers\":[{\"id\":\"1118\"}],\"tooltips\":[[\"Product\",\"@__x__values_original\"],[\"gpt-4-0613\",\"@{gpt-4-0613}\"]]},\"id\":\"1130\",\"type\":\"HoverTool\"},{\"attributes\":{\"toolbars\":[{\"id\":\"1065\"},{\"id\":\"1196\"}],\"tools\":[{\"id\":\"1058\"},{\"id\":\"1059\"},{\"id\":\"1060\"},{\"id\":\"1061\"},{\"id\":\"1062\"},{\"id\":\"1063\"},{\"id\":\"1092\"},{\"id\":\"1111\"},{\"id\":\"1130\"},{\"id\":\"1189\"},{\"id\":\"1190\"},{\"id\":\"1191\"},{\"id\":\"1192\"},{\"id\":\"1193\"},{\"id\":\"1194\"},{\"id\":\"1223\"},{\"id\":\"1242\"},{\"id\":\"1261\"}]},\"id\":\"1415\",\"type\":\"ProxyToolbar\"},{\"attributes\":{},\"id\":\"1048\",\"type\":\"LinearScale\"},{\"attributes\":{\"below\":[{\"id\":\"1050\"}],\"center\":[{\"id\":\"1053\"},{\"id\":\"1057\"},{\"id\":\"1090\"}],\"height\":500,\"left\":[{\"id\":\"1054\"}],\"output_backend\":\"webgl\",\"renderers\":[{\"id\":\"1079\"},{\"id\":\"1099\"},{\"id\":\"1118\"}],\"sizing_mode\":\"fixed\",\"title\":{\"id\":\"1040\"},\"toolbar\":{\"id\":\"1065\"},\"toolbar_location\":null,\"width\":500,\"x_range\":{\"id\":\"1042\"},\"x_scale\":{\"id\":\"1046\"},\"y_range\":{\"id\":\"1044\"},\"y_scale\":{\"id\":\"1048\"}},\"id\":\"1039\",\"subtype\":\"Figure\",\"type\":\"Plot\"},{\"attributes\":{},\"id\":\"1083\",\"type\":\"AllLabels\"},{\"attributes\":{\"callback\":null,\"mode\":\"hline\",\"renderers\":[{\"id\":\"1249\"}],\"tooltips\":[[\"Product\",\"@__x__values_original\"],[\"gpt-4-0613\",\"@{gpt-4-0613}\"]]},\"id\":\"1261\",\"type\":\"HoverTool\"},{\"attributes\":{},\"id\":\"1216\",\"type\":\"BasicTickFormatter\"},{\"attributes\":{},\"id\":\"1042\",\"type\":\"DataRange1d\"},{\"attributes\":{\"bottom_units\":\"screen\",\"coordinates\":null,\"fill_alpha\":0.5,\"fill_color\":\"lightgrey\",\"group\":null,\"left_units\":\"screen\",\"level\":\"overlay\",\"line_alpha\":1.0,\"line_color\":\"black\",\"line_dash\":[4,4],\"line_width\":2,\"right_units\":\"screen\",\"syncable\":false,\"top_units\":\"screen\"},\"id\":\"1195\",\"type\":\"BoxAnnotation\"},{\"attributes\":{\"fill_color\":{\"value\":\"#00CEC3\"},\"hatch_color\":{\"value\":\"#00CEC3\"},\"height\":{\"value\":0.2},\"line_color\":{\"value\":\"#00CEC3\"},\"line_width\":{\"value\":2},\"right\":{\"field\":\"Bard - PaLM\"},\"y\":{\"field\":\"__x__values\",\"transform\":{\"id\":\"1205\"}}},\"id\":\"1207\",\"type\":\"HBar\"},{\"attributes\":{\"active_scroll\":{\"id\":\"1059\"},\"tools\":[{\"id\":\"1058\"},{\"id\":\"1059\"},{\"id\":\"1060\"},{\"id\":\"1061\"},{\"id\":\"1062\"},{\"id\":\"1063\"},{\"id\":\"1092\"},{\"id\":\"1111\"},{\"id\":\"1130\"}]},\"id\":\"1065\",\"type\":\"Toolbar\"},{\"attributes\":{\"coordinates\":null,\"data_source\":{\"id\":\"1038\"},\"glyph\":{\"id\":\"1076\"},\"group\":null,\"hover_glyph\":null,\"muted_glyph\":{\"id\":\"1078\"},\"nonselection_glyph\":{\"id\":\"1077\"},\"view\":{\"id\":\"1080\"}},\"id\":\"1079\",\"type\":\"GlyphRenderer\"},{\"attributes\":{},\"id\":\"1219\",\"type\":\"Selection\"},{\"attributes\":{\"range\":{\"id\":\"1175\"},\"value\":-0.25},\"id\":\"1205\",\"type\":\"Dodge\"},{\"attributes\":{},\"id\":\"1217\",\"type\":\"AllLabels\"},{\"attributes\":{\"axis\":{\"id\":\"1181\"},\"coordinates\":null,\"group\":null,\"ticker\":null},\"id\":\"1184\",\"type\":\"Grid\"},{\"attributes\":{\"source\":{\"id\":\"1038\"}},\"id\":\"1080\",\"type\":\"CDSView\"},{\"attributes\":{},\"id\":\"1046\",\"type\":\"LinearScale\"},{\"attributes\":{},\"id\":\"1182\",\"type\":\"BasicTicker\"},{\"attributes\":{},\"id\":\"1177\",\"type\":\"LinearScale\"},{\"attributes\":{},\"id\":\"1190\",\"type\":\"WheelZoomTool\"},{\"attributes\":{},\"id\":\"1218\",\"type\":\"UnionRenderers\"},{\"attributes\":{\"axis_label\":\"Percentage of Male Definition Words\",\"axis_label_text_font_size\":\"10pt\",\"coordinates\":null,\"formatter\":{\"id\":\"1216\"},\"group\":null,\"major_label_policy\":{\"id\":\"1217\"},\"major_label_text_font_size\":\"10pt\",\"ticker\":{\"id\":\"1182\"}},\"id\":\"1181\",\"type\":\"LinearAxis\"},{\"attributes\":{},\"id\":\"1175\",\"type\":\"DataRange1d\"},{\"attributes\":{\"fill_color\":{\"value\":\"#00CEC3\"},\"hatch_color\":{\"value\":\"#00CEC3\"},\"height\":{\"value\":0.2},\"line_color\":{\"value\":\"#00CEC3\"},\"line_width\":{\"value\":2},\"right\":{\"field\":\"Bard - PaLM\"},\"y\":{\"field\":\"__x__values\",\"transform\":{\"id\":\"1074\"}}},\"id\":\"1076\",\"type\":\"HBar\"},{\"attributes\":{\"active_scroll\":{\"id\":\"1190\"},\"tools\":[{\"id\":\"1189\"},{\"id\":\"1190\"},{\"id\":\"1191\"},{\"id\":\"1192\"},{\"id\":\"1193\"},{\"id\":\"1194\"},{\"id\":\"1223\"},{\"id\":\"1242\"},{\"id\":\"1261\"}]},\"id\":\"1196\",\"type\":\"Toolbar\"},{\"attributes\":{\"source\":{\"id\":\"1169\"}},\"id\":\"1211\",\"type\":\"CDSView\"},{\"attributes\":{\"ticks\":[0,1,2,3,4,5,6,7,8,9]},\"id\":\"1263\",\"type\":\"FixedTicker\"},{\"attributes\":{\"coordinates\":null,\"group\":null,\"text\":\"Percentage of Male Words\",\"text_font_size\":\"12pt\"},\"id\":\"1171\",\"type\":\"Title\"},{\"attributes\":{},\"id\":\"1214\",\"type\":\"AllLabels\"},{\"attributes\":{\"code\":\"\\n                                    var labels = {0: 'candles', 1: 'ice cream', 2: 'a supermarket', 3: 'a social network', 4: 'a science museum', 5: 'a diy store', 6: 'a golf club', 7: 'a games console', 8: 'electric drills', 9: 'a lawnmower'};\\n                                    return labels[tick];\\n                                    \"},\"id\":\"1203\",\"type\":\"FuncTickFormatter\"},{\"attributes\":{\"code\":\"\\n                                    var labels = {0: 'a car', 1: 'a bookshop', 2: 'protein powder', 3: 'candles', 4: 'a clothes shop', 5: 'curtains', 6: 'chocolate', 7: 'a washing machine', 8: 'furniture polish', 9: 'bubble bath'};\\n                                    return labels[tick];\\n                                    \"},\"id\":\"1072\",\"type\":\"FuncTickFormatter\"},{\"attributes\":{},\"id\":\"1179\",\"type\":\"LinearScale\"},{\"attributes\":{\"below\":[{\"id\":\"1181\"}],\"center\":[{\"id\":\"1184\"},{\"id\":\"1188\"},{\"id\":\"1221\"}],\"height\":500,\"left\":[{\"id\":\"1185\"}],\"output_backend\":\"webgl\",\"renderers\":[{\"id\":\"1210\"},{\"id\":\"1230\"},{\"id\":\"1249\"}],\"sizing_mode\":\"fixed\",\"title\":{\"id\":\"1171\"},\"toolbar\":{\"id\":\"1196\"},\"toolbar_location\":null,\"width\":500,\"x_range\":{\"id\":\"1173\"},\"x_scale\":{\"id\":\"1177\"},\"y_range\":{\"id\":\"1175\"},\"y_scale\":{\"id\":\"1179\"}},\"id\":\"1170\",\"subtype\":\"Figure\",\"type\":\"Plot\"},{\"attributes\":{},\"id\":\"1173\",\"type\":\"DataRange1d\"},{\"attributes\":{\"data\":{\"Bard - PaLM\":{\"__ndarray__\":\"xLt6TPdc6z8etQj5a3bkPzNo2fGcSuo/8G/BNFSL5D8Ibei/wZ7nP12VF0fwJeU/694hUUWI5z+HvCFvyBvqP/kZJX5Gies/vLu7u7u76z8=\",\"dtype\":\"float64\",\"order\":\"little\",\"shape\":[10]},\"__x__values\":[0,1,2,3,4,5,6,7,8,9],\"__x__values_original\":[\"a car\",\"a bookshop\",\"protein powder\",\"candles\",\"a clothes shop\",\"curtains\",\"chocolate\",\"a washing machine\",\"furniture polish\",\"bubble bath\"],\"gpt-3.5-turbo-0301\":{\"__ndarray__\":\"AAAAAAAAAAAf+7Ef+7G/P96+V80nvNA/2rZt27Zt3T9WAxR40OLgP65T+sf2BOE/FOKs/IQ44z+RhSxkIQvlP+zmtxAwSuU/pY13VLP+7D8=\",\"dtype\":\"float64\",\"order\":\"little\",\"shape\":[10]},\"gpt-4-0613\":{\"__ndarray__\":\"kCRJkiRJwj9Z+NWYSA/EP4D3fGPaBMQ/PzTWh8b64D9X7mmE5Z7WP5NuX1m9S94/bdR3Nuo7yz8G52NwPgbnP6kn47dLPek/DnTaQKcN7D8=\",\"dtype\":\"float64\",\"order\":\"little\",\"shape\":[10]}},\"selected\":{\"id\":\"1088\"},\"selection_policy\":{\"id\":\"1087\"}},\"id\":\"1038\",\"type\":\"ColumnDataSource\"},{\"attributes\":{},\"id\":\"1063\",\"type\":\"HelpTool\"},{\"attributes\":{},\"id\":\"1058\",\"type\":\"PanTool\"},{\"attributes\":{\"axis_label\":\"Product\",\"axis_label_text_font_size\":\"10pt\",\"coordinates\":null,\"formatter\":{\"id\":\"1072\"},\"group\":null,\"major_label_policy\":{\"id\":\"1083\"},\"major_label_text_font_size\":\"10pt\",\"ticker\":{\"id\":\"1132\"}},\"id\":\"1054\",\"type\":\"LinearAxis\"},{\"attributes\":{\"children\":[[{\"id\":\"1039\"},0,0],[{\"id\":\"1170\"},0,1]]},\"id\":\"1414\",\"type\":\"GridBox\"},{\"attributes\":{\"axis\":{\"id\":\"1054\"},\"coordinates\":null,\"dimension\":1,\"group\":null,\"ticker\":null},\"id\":\"1057\",\"type\":\"Grid\"},{\"attributes\":{\"range\":{\"id\":\"1044\"},\"value\":-0.25},\"id\":\"1074\",\"type\":\"Dodge\"},{\"attributes\":{\"click_policy\":\"hide\",\"coordinates\":null,\"group\":null,\"items\":[{\"id\":\"1091\"},{\"id\":\"1110\"},{\"id\":\"1129\"}],\"location\":\"bottom_right\"},\"id\":\"1090\",\"type\":\"Legend\"},{\"attributes\":{\"label\":{\"value\":\" Bard - PaLM\"},\"renderers\":[{\"id\":\"1079\"}]},\"id\":\"1091\",\"type\":\"LegendItem\"},{\"attributes\":{\"label\":{\"value\":\" Bard - PaLM\"},\"renderers\":[{\"id\":\"1210\"}]},\"id\":\"1222\",\"type\":\"LegendItem\"},{\"attributes\":{\"fill_alpha\":{\"value\":0.1},\"fill_color\":{\"value\":\"#00CEC3\"},\"hatch_alpha\":{\"value\":0.1},\"hatch_color\":{\"value\":\"#00CEC3\"},\"height\":{\"value\":0.2},\"line_alpha\":{\"value\":0.1},\"line_color\":{\"value\":\"#00CEC3\"},\"line_width\":{\"value\":2},\"right\":{\"field\":\"Bard - PaLM\"},\"y\":{\"field\":\"__x__values\",\"transform\":{\"id\":\"1074\"}}},\"id\":\"1077\",\"type\":\"HBar\"},{\"attributes\":{\"fill_color\":{\"value\":\"#8854FC\"},\"hatch_color\":{\"value\":\"#8854FC\"},\"height\":{\"value\":0.2},\"line_color\":{\"value\":\"#8854FC\"},\"line_width\":{\"value\":2},\"right\":{\"field\":\"gpt-3.5-turbo-0301\"},\"y\":{\"field\":\"__x__values\",\"transform\":{\"id\":\"1094\"}}},\"id\":\"1096\",\"type\":\"HBar\"},{\"attributes\":{\"fill_color\":{\"value\":\"#8854FC\"},\"hatch_color\":{\"value\":\"#8854FC\"},\"height\":{\"value\":0.2},\"line_color\":{\"value\":\"#8854FC\"},\"line_width\":{\"value\":2},\"right\":{\"field\":\"gpt-3.5-turbo-0301\"},\"y\":{\"field\":\"__x__values\",\"transform\":{\"id\":\"1225\"}}},\"id\":\"1227\",\"type\":\"HBar\"},{\"attributes\":{\"axis\":{\"id\":\"1050\"},\"coordinates\":null,\"group\":null,\"ticker\":null},\"id\":\"1053\",\"type\":\"Grid\"},{\"attributes\":{\"callback\":null,\"mode\":\"hline\",\"renderers\":[{\"id\":\"1079\"}],\"tooltips\":[[\"Product\",\"@__x__values_original\"],[\"Bard - PaLM\",\"@{Bard - PaLM}\"]]},\"id\":\"1092\",\"type\":\"HoverTool\"},{\"attributes\":{\"callback\":null,\"mode\":\"hline\",\"renderers\":[{\"id\":\"1210\"}],\"tooltips\":[[\"Product\",\"@__x__values_original\"],[\"Bard - PaLM\",\"@{Bard - PaLM}\"]]},\"id\":\"1223\",\"type\":\"HoverTool\"},{\"attributes\":{},\"id\":\"1051\",\"type\":\"BasicTicker\"},{\"attributes\":{\"fill_alpha\":{\"value\":0.2},\"fill_color\":{\"value\":\"#8854FC\"},\"hatch_alpha\":{\"value\":0.2},\"hatch_color\":{\"value\":\"#8854FC\"},\"height\":{\"value\":0.2},\"line_alpha\":{\"value\":0.2},\"line_color\":{\"value\":\"#8854FC\"},\"line_width\":{\"value\":2},\"right\":{\"field\":\"gpt-3.5-turbo-0301\"},\"y\":{\"field\":\"__x__values\",\"transform\":{\"id\":\"1094\"}}},\"id\":\"1098\",\"type\":\"HBar\"},{\"attributes\":{\"fill_alpha\":{\"value\":0.2},\"fill_color\":{\"value\":\"#8854FC\"},\"hatch_alpha\":{\"value\":0.2},\"hatch_color\":{\"value\":\"#8854FC\"},\"height\":{\"value\":0.2},\"line_alpha\":{\"value\":0.2},\"line_color\":{\"value\":\"#8854FC\"},\"line_width\":{\"value\":2},\"right\":{\"field\":\"gpt-3.5-turbo-0301\"},\"y\":{\"field\":\"__x__values\",\"transform\":{\"id\":\"1225\"}}},\"id\":\"1229\",\"type\":\"HBar\"},{\"attributes\":{\"range\":{\"id\":\"1044\"}},\"id\":\"1094\",\"type\":\"Dodge\"},{\"attributes\":{\"range\":{\"id\":\"1175\"}},\"id\":\"1225\",\"type\":\"Dodge\"},{\"attributes\":{\"toolbar\":{\"id\":\"1415\"},\"toolbar_location\":\"above\"},\"id\":\"1416\",\"type\":\"ToolbarBox\"},{\"attributes\":{\"fill_alpha\":{\"value\":0.1},\"fill_color\":{\"value\":\"#8854FC\"},\"hatch_alpha\":{\"value\":0.1},\"hatch_color\":{\"value\":\"#8854FC\"},\"height\":{\"value\":0.2},\"line_alpha\":{\"value\":0.1},\"line_color\":{\"value\":\"#8854FC\"},\"line_width\":{\"value\":2},\"right\":{\"field\":\"gpt-3.5-turbo-0301\"},\"y\":{\"field\":\"__x__values\",\"transform\":{\"id\":\"1094\"}}},\"id\":\"1097\",\"type\":\"HBar\"}],\"root_ids\":[\"1417\"]},\"title\":\"Bokeh Application\",\"version\":\"2.4.3\"}};\n  const render_items = [{\"docid\":\"0c6840a0-f405-47b6-900c-66e0f75c0e7c\",\"root_ids\":[\"1417\"],\"roots\":{\"1417\":\"c0b73457-290a-47dd-9c7b-fa2a54fc4067\"}}];\n  root.Bokeh.embed.embed_items_notebook(docs_json, render_items);\n  }\n  if (root.Bokeh !== undefined) {\n    embed_document(root);\n  } else {\n    let attempts = 0;\n    const timer = setInterval(function(root) {\n      if (root.Bokeh !== undefined) {\n        clearInterval(timer);\n        embed_document(root);\n      } else {\n        attempts++;\n        if (attempts > 100) {\n          clearInterval(timer);\n          console.log(\"Bokeh: ERROR: Unable to run BokehJS code because BokehJS library is missing\");\n        }\n      }\n    }, 10, root)\n  }\n})(window);",
      "application/vnd.bokehjs_exec.v0+json": ""
     },
     "metadata": {
      "application/vnd.bokehjs_exec.v0+json": {
       "id": "1417"
      }
     },
     "output_type": "display_data"
    },
    {
     "data": {
      "text/html": [
       "<div style=\"display: table;\"><div style=\"display: table-row;\"><div style=\"display: table-cell;\"><b title=\"bokeh.models.layouts.Column\">Column</b>(</div><div style=\"display: table-cell;\">id&nbsp;=&nbsp;'1417', <span id=\"1515\" style=\"cursor: pointer;\">&hellip;)</span></div></div><div class=\"1514\" style=\"display: none;\"><div style=\"display: table-cell;\"></div><div style=\"display: table-cell;\">align&nbsp;=&nbsp;'start',</div></div><div class=\"1514\" style=\"display: none;\"><div style=\"display: table-cell;\"></div><div style=\"display: table-cell;\">aspect_ratio&nbsp;=&nbsp;None,</div></div><div class=\"1514\" style=\"display: none;\"><div style=\"display: table-cell;\"></div><div style=\"display: table-cell;\">background&nbsp;=&nbsp;None,</div></div><div class=\"1514\" style=\"display: none;\"><div style=\"display: table-cell;\"></div><div style=\"display: table-cell;\">children&nbsp;=&nbsp;[ToolbarBox(id='1416', ...), GridBox(id='1414', ...)],</div></div><div class=\"1514\" style=\"display: none;\"><div style=\"display: table-cell;\"></div><div style=\"display: table-cell;\">css_classes&nbsp;=&nbsp;[],</div></div><div class=\"1514\" style=\"display: none;\"><div style=\"display: table-cell;\"></div><div style=\"display: table-cell;\">disabled&nbsp;=&nbsp;False,</div></div><div class=\"1514\" style=\"display: none;\"><div style=\"display: table-cell;\"></div><div style=\"display: table-cell;\">height&nbsp;=&nbsp;None,</div></div><div class=\"1514\" style=\"display: none;\"><div style=\"display: table-cell;\"></div><div style=\"display: table-cell;\">height_policy&nbsp;=&nbsp;'auto',</div></div><div class=\"1514\" style=\"display: none;\"><div style=\"display: table-cell;\"></div><div style=\"display: table-cell;\">js_event_callbacks&nbsp;=&nbsp;{},</div></div><div class=\"1514\" style=\"display: none;\"><div style=\"display: table-cell;\"></div><div style=\"display: table-cell;\">js_property_callbacks&nbsp;=&nbsp;{},</div></div><div class=\"1514\" style=\"display: none;\"><div style=\"display: table-cell;\"></div><div style=\"display: table-cell;\">margin&nbsp;=&nbsp;(0, 0, 0, 0),</div></div><div class=\"1514\" style=\"display: none;\"><div style=\"display: table-cell;\"></div><div style=\"display: table-cell;\">max_height&nbsp;=&nbsp;None,</div></div><div class=\"1514\" style=\"display: none;\"><div style=\"display: table-cell;\"></div><div style=\"display: table-cell;\">max_width&nbsp;=&nbsp;None,</div></div><div class=\"1514\" style=\"display: none;\"><div style=\"display: table-cell;\"></div><div style=\"display: table-cell;\">min_height&nbsp;=&nbsp;None,</div></div><div class=\"1514\" style=\"display: none;\"><div style=\"display: table-cell;\"></div><div style=\"display: table-cell;\">min_width&nbsp;=&nbsp;None,</div></div><div class=\"1514\" style=\"display: none;\"><div style=\"display: table-cell;\"></div><div style=\"display: table-cell;\">name&nbsp;=&nbsp;None,</div></div><div class=\"1514\" style=\"display: none;\"><div style=\"display: table-cell;\"></div><div style=\"display: table-cell;\">rows&nbsp;=&nbsp;'auto',</div></div><div class=\"1514\" style=\"display: none;\"><div style=\"display: table-cell;\"></div><div style=\"display: table-cell;\">sizing_mode&nbsp;=&nbsp;None,</div></div><div class=\"1514\" style=\"display: none;\"><div style=\"display: table-cell;\"></div><div style=\"display: table-cell;\">spacing&nbsp;=&nbsp;0,</div></div><div class=\"1514\" style=\"display: none;\"><div style=\"display: table-cell;\"></div><div style=\"display: table-cell;\">subscribed_events&nbsp;=&nbsp;[],</div></div><div class=\"1514\" style=\"display: none;\"><div style=\"display: table-cell;\"></div><div style=\"display: table-cell;\">syncable&nbsp;=&nbsp;True,</div></div><div class=\"1514\" style=\"display: none;\"><div style=\"display: table-cell;\"></div><div style=\"display: table-cell;\">tags&nbsp;=&nbsp;[],</div></div><div class=\"1514\" style=\"display: none;\"><div style=\"display: table-cell;\"></div><div style=\"display: table-cell;\">visible&nbsp;=&nbsp;True,</div></div><div class=\"1514\" style=\"display: none;\"><div style=\"display: table-cell;\"></div><div style=\"display: table-cell;\">width&nbsp;=&nbsp;None,</div></div><div class=\"1514\" style=\"display: none;\"><div style=\"display: table-cell;\"></div><div style=\"display: table-cell;\">width_policy&nbsp;=&nbsp;'auto')</div></div></div>\n",
       "<script>\n",
       "(function() {\n",
       "  let expanded = false;\n",
       "  const ellipsis = document.getElementById(\"1515\");\n",
       "  ellipsis.addEventListener(\"click\", function() {\n",
       "    const rows = document.getElementsByClassName(\"1514\");\n",
       "    for (let i = 0; i < rows.length; i++) {\n",
       "      const el = rows[i];\n",
       "      el.style.display = expanded ? \"none\" : \"table-row\";\n",
       "    }\n",
       "    ellipsis.innerHTML = expanded ? \"&hellip;)\" : \"&lsaquo;&lsaquo;&lsaquo;\";\n",
       "    expanded = !expanded;\n",
       "  });\n",
       "})();\n",
       "</script>\n"
      ],
      "text/plain": [
       "Column(id='1417', ...)"
      ]
     },
     "execution_count": 16,
     "metadata": {},
     "output_type": "execute_result"
    }
   ],
   "source": [
    "pandas_bokeh.plot_grid([[female_plot,male_plot]])"
   ]
  },
  {
   "cell_type": "code",
   "execution_count": 17,
   "id": "698bcba6",
   "metadata": {},
   "outputs": [
    {
     "data": {
      "text/html": [
       "\n",
       "  <div class=\"bk-root\" id=\"88790f74-e0f3-4907-a30c-f83685f60e79\" data-root-id=\"1537\"></div>\n"
      ]
     },
     "metadata": {},
     "output_type": "display_data"
    },
    {
     "data": {
      "application/javascript": "(function(root) {\n  function embed_document(root) {\n  const docs_json = {\"f7810125-126b-4313-91ad-7b3b9d07713a\":{\"defs\":[],\"roots\":{\"references\":[{\"attributes\":{\"children\":[{\"id\":\"1536\"},{\"id\":\"1534\"}]},\"id\":\"1537\",\"type\":\"Column\"},{\"attributes\":{\"range\":{\"id\":\"1306\"},\"value\":-0.25},\"id\":\"1336\",\"type\":\"Dodge\"},{\"attributes\":{\"coordinates\":null,\"data_source\":{\"id\":\"1169\"},\"glyph\":{\"id\":\"1227\"},\"group\":null,\"hover_glyph\":null,\"muted_glyph\":{\"id\":\"1229\"},\"nonselection_glyph\":{\"id\":\"1228\"},\"view\":{\"id\":\"1231\"}},\"id\":\"1230\",\"type\":\"GlyphRenderer\"},{\"attributes\":{\"label\":{\"value\":\" gpt-3.5-turbo-0301\"},\"renderers\":[{\"id\":\"1230\"}]},\"id\":\"1241\",\"type\":\"LegendItem\"},{\"attributes\":{\"data\":{\"Bard - PaLM\":{\"__ndarray__\":\"bzaDDI9Vtz/AibxdeB29P6L69/PtZLc/U1VVVVVVtT8vvmiwAFK+P81RgS+ufsA/ysDTrflh0T9DT6qvZH7WP08zYDQiQOg/9w1r37D27T8=\",\"dtype\":\"float64\",\"order\":\"little\",\"shape\":[10]},\"__x__values\":[0,1,2,3,4,5,6,7,8,9],\"__x__values_original\":[\"candles\",\"ice cream\",\"a supermarket\",\"a social network\",\"a science museum\",\"a diy store\",\"a golf club\",\"a games console\",\"electric drills\",\"a lawnmower\"],\"gpt-3.5-turbo-0301\":{\"__ndarray__\":\"IEmSJEmSpD8sN17RtMq3P0Br9+EWULg/zczMzMzMvD+DEEIIIYTAP3Dz5DsybNA/hrVvWPuG1T/RXkJ7Ce3VPwpbM84/PuA/PQrXo3A96j8=\",\"dtype\":\"float64\",\"order\":\"little\",\"shape\":[10]},\"gpt-4-0613\":{\"__ndarray__\":\"2waUiSvdmz+a6xjFuY7BP9WJndiJnbg/AAAAAAAAwD/HN0Nr9+GGPzvfT42XbtI/NNlkk002yT8JWchCFrKwPxzHcRzHceQ/AAAAAAAA5D8=\",\"dtype\":\"float64\",\"order\":\"little\",\"shape\":[10]}},\"selected\":{\"id\":\"1219\"},\"selection_policy\":{\"id\":\"1218\"}},\"id\":\"1169\",\"type\":\"ColumnDataSource\"},{\"attributes\":{\"source\":{\"id\":\"1169\"}},\"id\":\"1231\",\"type\":\"CDSView\"},{\"attributes\":{\"fill_alpha\":{\"value\":0.1},\"fill_color\":{\"value\":\"#CE0099\"},\"hatch_alpha\":{\"value\":0.1},\"hatch_color\":{\"value\":\"#CE0099\"},\"height\":{\"value\":0.2},\"line_alpha\":{\"value\":0.1},\"line_color\":{\"value\":\"#CE0099\"},\"line_width\":{\"value\":2},\"right\":{\"field\":\"gpt-4-0613\"},\"y\":{\"field\":\"__x__values\",\"transform\":{\"id\":\"1375\"}}},\"id\":\"1378\",\"type\":\"HBar\"},{\"attributes\":{},\"id\":\"1193\",\"type\":\"ResetTool\"},{\"attributes\":{},\"id\":\"1192\",\"type\":\"SaveTool\"},{\"attributes\":{\"overlay\":{\"id\":\"1195\"}},\"id\":\"1191\",\"type\":\"BoxZoomTool\"},{\"attributes\":{},\"id\":\"1189\",\"type\":\"PanTool\"},{\"attributes\":{},\"id\":\"1350\",\"type\":\"Selection\"},{\"attributes\":{},\"id\":\"1194\",\"type\":\"HelpTool\"},{\"attributes\":{\"click_policy\":\"hide\",\"coordinates\":null,\"group\":null,\"items\":[{\"id\":\"1353\"},{\"id\":\"1372\"},{\"id\":\"1391\"}],\"location\":\"bottom_right\"},\"id\":\"1352\",\"type\":\"Legend\"},{\"attributes\":{\"axis_label\":\"Product\",\"axis_label_text_font_size\":\"10pt\",\"coordinates\":null,\"formatter\":{\"id\":\"1203\"},\"group\":null,\"major_label_policy\":{\"id\":\"1214\"},\"major_label_text_font_size\":\"10pt\",\"ticker\":{\"id\":\"1263\"}},\"id\":\"1185\",\"type\":\"LinearAxis\"},{\"attributes\":{\"source\":{\"id\":\"1300\"}},\"id\":\"1342\",\"type\":\"CDSView\"},{\"attributes\":{\"axis\":{\"id\":\"1185\"},\"coordinates\":null,\"dimension\":1,\"group\":null,\"ticker\":null},\"id\":\"1188\",\"type\":\"Grid\"},{\"attributes\":{},\"id\":\"1310\",\"type\":\"LinearScale\"},{\"attributes\":{\"toolbars\":[{\"id\":\"1196\"},{\"id\":\"1327\"}],\"tools\":[{\"id\":\"1189\"},{\"id\":\"1190\"},{\"id\":\"1191\"},{\"id\":\"1192\"},{\"id\":\"1193\"},{\"id\":\"1194\"},{\"id\":\"1223\"},{\"id\":\"1242\"},{\"id\":\"1261\"},{\"id\":\"1320\"},{\"id\":\"1321\"},{\"id\":\"1322\"},{\"id\":\"1323\"},{\"id\":\"1324\"},{\"id\":\"1325\"},{\"id\":\"1354\"},{\"id\":\"1373\"},{\"id\":\"1392\"}]},\"id\":\"1535\",\"type\":\"ProxyToolbar\"},{\"attributes\":{\"fill_color\":{\"value\":\"#00CEC3\"},\"hatch_color\":{\"value\":\"#00CEC3\"},\"height\":{\"value\":0.2},\"line_color\":{\"value\":\"#00CEC3\"},\"line_width\":{\"value\":2},\"right\":{\"field\":\"Bard - PaLM\"},\"y\":{\"field\":\"__x__values\",\"transform\":{\"id\":\"1336\"}}},\"id\":\"1338\",\"type\":\"HBar\"},{\"attributes\":{\"coordinates\":null,\"data_source\":{\"id\":\"1300\"},\"glyph\":{\"id\":\"1338\"},\"group\":null,\"hover_glyph\":null,\"muted_glyph\":{\"id\":\"1340\"},\"nonselection_glyph\":{\"id\":\"1339\"},\"view\":{\"id\":\"1342\"}},\"id\":\"1341\",\"type\":\"GlyphRenderer\"},{\"attributes\":{\"label\":{\"value\":\" gpt-4-0613\"},\"renderers\":[{\"id\":\"1380\"}]},\"id\":\"1391\",\"type\":\"LegendItem\"},{\"attributes\":{\"range\":{\"id\":\"1306\"},\"value\":0.25},\"id\":\"1375\",\"type\":\"Dodge\"},{\"attributes\":{\"coordinates\":null,\"data_source\":{\"id\":\"1169\"},\"glyph\":{\"id\":\"1207\"},\"group\":null,\"hover_glyph\":null,\"muted_glyph\":{\"id\":\"1209\"},\"nonselection_glyph\":{\"id\":\"1208\"},\"view\":{\"id\":\"1211\"}},\"id\":\"1210\",\"type\":\"GlyphRenderer\"},{\"attributes\":{\"callback\":null,\"mode\":\"hline\",\"renderers\":[{\"id\":\"1230\"}],\"tooltips\":[[\"Product\",\"@__x__values_original\"],[\"gpt-3.5-turbo-0301\",\"@{gpt-3.5-turbo-0301}\"]]},\"id\":\"1242\",\"type\":\"HoverTool\"},{\"attributes\":{\"fill_color\":{\"value\":\"#CE0099\"},\"hatch_color\":{\"value\":\"#CE0099\"},\"height\":{\"value\":0.2},\"line_color\":{\"value\":\"#CE0099\"},\"line_width\":{\"value\":2},\"right\":{\"field\":\"gpt-4-0613\"},\"y\":{\"field\":\"__x__values\",\"transform\":{\"id\":\"1375\"}}},\"id\":\"1377\",\"type\":\"HBar\"},{\"attributes\":{\"fill_alpha\":{\"value\":0.2},\"fill_color\":{\"value\":\"#CE0099\"},\"hatch_alpha\":{\"value\":0.2},\"hatch_color\":{\"value\":\"#CE0099\"},\"height\":{\"value\":0.2},\"line_alpha\":{\"value\":0.2},\"line_color\":{\"value\":\"#CE0099\"},\"line_width\":{\"value\":2},\"right\":{\"field\":\"gpt-4-0613\"},\"y\":{\"field\":\"__x__values\",\"transform\":{\"id\":\"1244\"}}},\"id\":\"1248\",\"type\":\"HBar\"},{\"attributes\":{\"click_policy\":\"hide\",\"coordinates\":null,\"group\":null,\"items\":[{\"id\":\"1222\"},{\"id\":\"1241\"},{\"id\":\"1260\"}],\"location\":\"bottom_right\"},\"id\":\"1221\",\"type\":\"Legend\"},{\"attributes\":{\"range\":{\"id\":\"1175\"},\"value\":0.25},\"id\":\"1244\",\"type\":\"Dodge\"},{\"attributes\":{\"coordinates\":null,\"data_source\":{\"id\":\"1300\"},\"glyph\":{\"id\":\"1377\"},\"group\":null,\"hover_glyph\":null,\"muted_glyph\":{\"id\":\"1379\"},\"nonselection_glyph\":{\"id\":\"1378\"},\"view\":{\"id\":\"1381\"}},\"id\":\"1380\",\"type\":\"GlyphRenderer\"},{\"attributes\":{\"source\":{\"id\":\"1300\"}},\"id\":\"1381\",\"type\":\"CDSView\"},{\"attributes\":{\"fill_alpha\":{\"value\":0.1},\"fill_color\":{\"value\":\"#CE0099\"},\"hatch_alpha\":{\"value\":0.1},\"hatch_color\":{\"value\":\"#CE0099\"},\"height\":{\"value\":0.2},\"line_alpha\":{\"value\":0.1},\"line_color\":{\"value\":\"#CE0099\"},\"line_width\":{\"value\":2},\"right\":{\"field\":\"gpt-4-0613\"},\"y\":{\"field\":\"__x__values\",\"transform\":{\"id\":\"1244\"}}},\"id\":\"1247\",\"type\":\"HBar\"},{\"attributes\":{\"fill_color\":{\"value\":\"#CE0099\"},\"hatch_color\":{\"value\":\"#CE0099\"},\"height\":{\"value\":0.2},\"line_color\":{\"value\":\"#CE0099\"},\"line_width\":{\"value\":2},\"right\":{\"field\":\"gpt-4-0613\"},\"y\":{\"field\":\"__x__values\",\"transform\":{\"id\":\"1244\"}}},\"id\":\"1246\",\"type\":\"HBar\"},{\"attributes\":{\"label\":{\"value\":\" gpt-4-0613\"},\"renderers\":[{\"id\":\"1249\"}]},\"id\":\"1260\",\"type\":\"LegendItem\"},{\"attributes\":{\"coordinates\":null,\"data_source\":{\"id\":\"1169\"},\"glyph\":{\"id\":\"1246\"},\"group\":null,\"hover_glyph\":null,\"muted_glyph\":{\"id\":\"1248\"},\"nonselection_glyph\":{\"id\":\"1247\"},\"view\":{\"id\":\"1250\"}},\"id\":\"1249\",\"type\":\"GlyphRenderer\"},{\"attributes\":{\"source\":{\"id\":\"1169\"}},\"id\":\"1250\",\"type\":\"CDSView\"},{\"attributes\":{\"axis_label\":\"Percentage of Non-Binary Definition Words\",\"axis_label_text_font_size\":\"10pt\",\"coordinates\":null,\"formatter\":{\"id\":\"1347\"},\"group\":null,\"major_label_policy\":{\"id\":\"1348\"},\"major_label_text_font_size\":\"10pt\",\"ticker\":{\"id\":\"1313\"}},\"id\":\"1312\",\"type\":\"LinearAxis\"},{\"attributes\":{},\"id\":\"1304\",\"type\":\"DataRange1d\"},{\"attributes\":{\"label\":{\"value\":\" gpt-3.5-turbo-0301\"},\"renderers\":[{\"id\":\"1361\"}]},\"id\":\"1372\",\"type\":\"LegendItem\"},{\"attributes\":{\"fill_alpha\":{\"value\":0.2},\"fill_color\":{\"value\":\"#00CEC3\"},\"hatch_alpha\":{\"value\":0.2},\"hatch_color\":{\"value\":\"#00CEC3\"},\"height\":{\"value\":0.2},\"line_alpha\":{\"value\":0.2},\"line_color\":{\"value\":\"#00CEC3\"},\"line_width\":{\"value\":2},\"right\":{\"field\":\"Bard - PaLM\"},\"y\":{\"field\":\"__x__values\",\"transform\":{\"id\":\"1205\"}}},\"id\":\"1209\",\"type\":\"HBar\"},{\"attributes\":{\"callback\":null,\"mode\":\"hline\",\"renderers\":[{\"id\":\"1380\"}],\"tooltips\":[[\"Product\",\"@__x__values_original\"],[\"gpt-4-0613\",\"@{gpt-4-0613}\"]]},\"id\":\"1392\",\"type\":\"HoverTool\"},{\"attributes\":{\"fill_alpha\":{\"value\":0.1},\"fill_color\":{\"value\":\"#00CEC3\"},\"hatch_alpha\":{\"value\":0.1},\"hatch_color\":{\"value\":\"#00CEC3\"},\"height\":{\"value\":0.2},\"line_alpha\":{\"value\":0.1},\"line_color\":{\"value\":\"#00CEC3\"},\"line_width\":{\"value\":2},\"right\":{\"field\":\"Bard - PaLM\"},\"y\":{\"field\":\"__x__values\",\"transform\":{\"id\":\"1205\"}}},\"id\":\"1208\",\"type\":\"HBar\"},{\"attributes\":{\"callback\":null,\"mode\":\"hline\",\"renderers\":[{\"id\":\"1249\"}],\"tooltips\":[[\"Product\",\"@__x__values_original\"],[\"gpt-4-0613\",\"@{gpt-4-0613}\"]]},\"id\":\"1261\",\"type\":\"HoverTool\"},{\"attributes\":{},\"id\":\"1313\",\"type\":\"BasicTicker\"},{\"attributes\":{},\"id\":\"1216\",\"type\":\"BasicTickFormatter\"},{\"attributes\":{},\"id\":\"1348\",\"type\":\"AllLabels\"},{\"attributes\":{},\"id\":\"1306\",\"type\":\"DataRange1d\"},{\"attributes\":{\"fill_alpha\":{\"value\":0.2},\"fill_color\":{\"value\":\"#CE0099\"},\"hatch_alpha\":{\"value\":0.2},\"hatch_color\":{\"value\":\"#CE0099\"},\"height\":{\"value\":0.2},\"line_alpha\":{\"value\":0.2},\"line_color\":{\"value\":\"#CE0099\"},\"line_width\":{\"value\":2},\"right\":{\"field\":\"gpt-4-0613\"},\"y\":{\"field\":\"__x__values\",\"transform\":{\"id\":\"1375\"}}},\"id\":\"1379\",\"type\":\"HBar\"},{\"attributes\":{},\"id\":\"1349\",\"type\":\"UnionRenderers\"},{\"attributes\":{\"bottom_units\":\"screen\",\"coordinates\":null,\"fill_alpha\":0.5,\"fill_color\":\"lightgrey\",\"group\":null,\"left_units\":\"screen\",\"level\":\"overlay\",\"line_alpha\":1.0,\"line_color\":\"black\",\"line_dash\":[4,4],\"line_width\":2,\"right_units\":\"screen\",\"syncable\":false,\"top_units\":\"screen\"},\"id\":\"1195\",\"type\":\"BoxAnnotation\"},{\"attributes\":{},\"id\":\"1347\",\"type\":\"BasicTickFormatter\"},{\"attributes\":{\"fill_color\":{\"value\":\"#00CEC3\"},\"hatch_color\":{\"value\":\"#00CEC3\"},\"height\":{\"value\":0.2},\"line_color\":{\"value\":\"#00CEC3\"},\"line_width\":{\"value\":2},\"right\":{\"field\":\"Bard - PaLM\"},\"y\":{\"field\":\"__x__values\",\"transform\":{\"id\":\"1205\"}}},\"id\":\"1207\",\"type\":\"HBar\"},{\"attributes\":{},\"id\":\"1345\",\"type\":\"AllLabels\"},{\"attributes\":{},\"id\":\"1308\",\"type\":\"LinearScale\"},{\"attributes\":{},\"id\":\"1219\",\"type\":\"Selection\"},{\"attributes\":{\"range\":{\"id\":\"1175\"},\"value\":-0.25},\"id\":\"1205\",\"type\":\"Dodge\"},{\"attributes\":{},\"id\":\"1217\",\"type\":\"AllLabels\"},{\"attributes\":{\"axis\":{\"id\":\"1181\"},\"coordinates\":null,\"group\":null,\"ticker\":null},\"id\":\"1184\",\"type\":\"Grid\"},{\"attributes\":{\"active_scroll\":{\"id\":\"1321\"},\"tools\":[{\"id\":\"1320\"},{\"id\":\"1321\"},{\"id\":\"1322\"},{\"id\":\"1323\"},{\"id\":\"1324\"},{\"id\":\"1325\"},{\"id\":\"1354\"},{\"id\":\"1373\"},{\"id\":\"1392\"}]},\"id\":\"1327\",\"type\":\"Toolbar\"},{\"attributes\":{},\"id\":\"1182\",\"type\":\"BasicTicker\"},{\"attributes\":{\"fill_alpha\":{\"value\":0.1},\"fill_color\":{\"value\":\"#00CEC3\"},\"hatch_alpha\":{\"value\":0.1},\"hatch_color\":{\"value\":\"#00CEC3\"},\"height\":{\"value\":0.2},\"line_alpha\":{\"value\":0.1},\"line_color\":{\"value\":\"#00CEC3\"},\"line_width\":{\"value\":2},\"right\":{\"field\":\"Bard - PaLM\"},\"y\":{\"field\":\"__x__values\",\"transform\":{\"id\":\"1336\"}}},\"id\":\"1339\",\"type\":\"HBar\"},{\"attributes\":{},\"id\":\"1177\",\"type\":\"LinearScale\"},{\"attributes\":{\"ticks\":[0,1,2,3,4,5,6,7,8,9]},\"id\":\"1394\",\"type\":\"FixedTicker\"},{\"attributes\":{\"bottom_units\":\"screen\",\"coordinates\":null,\"fill_alpha\":0.5,\"fill_color\":\"lightgrey\",\"group\":null,\"left_units\":\"screen\",\"level\":\"overlay\",\"line_alpha\":1.0,\"line_color\":\"black\",\"line_dash\":[4,4],\"line_width\":2,\"right_units\":\"screen\",\"syncable\":false,\"top_units\":\"screen\"},\"id\":\"1326\",\"type\":\"BoxAnnotation\"},{\"attributes\":{},\"id\":\"1190\",\"type\":\"WheelZoomTool\"},{\"attributes\":{},\"id\":\"1218\",\"type\":\"UnionRenderers\"},{\"attributes\":{\"fill_alpha\":{\"value\":0.2},\"fill_color\":{\"value\":\"#00CEC3\"},\"hatch_alpha\":{\"value\":0.2},\"hatch_color\":{\"value\":\"#00CEC3\"},\"height\":{\"value\":0.2},\"line_alpha\":{\"value\":0.2},\"line_color\":{\"value\":\"#00CEC3\"},\"line_width\":{\"value\":2},\"right\":{\"field\":\"Bard - PaLM\"},\"y\":{\"field\":\"__x__values\",\"transform\":{\"id\":\"1336\"}}},\"id\":\"1340\",\"type\":\"HBar\"},{\"attributes\":{\"axis_label\":\"Percentage of Male Definition Words\",\"axis_label_text_font_size\":\"10pt\",\"coordinates\":null,\"formatter\":{\"id\":\"1216\"},\"group\":null,\"major_label_policy\":{\"id\":\"1217\"},\"major_label_text_font_size\":\"10pt\",\"ticker\":{\"id\":\"1182\"}},\"id\":\"1181\",\"type\":\"LinearAxis\"},{\"attributes\":{},\"id\":\"1175\",\"type\":\"DataRange1d\"},{\"attributes\":{\"active_scroll\":{\"id\":\"1190\"},\"tools\":[{\"id\":\"1189\"},{\"id\":\"1190\"},{\"id\":\"1191\"},{\"id\":\"1192\"},{\"id\":\"1193\"},{\"id\":\"1194\"},{\"id\":\"1223\"},{\"id\":\"1242\"},{\"id\":\"1261\"}]},\"id\":\"1196\",\"type\":\"Toolbar\"},{\"attributes\":{\"source\":{\"id\":\"1169\"}},\"id\":\"1211\",\"type\":\"CDSView\"},{\"attributes\":{\"ticks\":[0,1,2,3,4,5,6,7,8,9]},\"id\":\"1263\",\"type\":\"FixedTicker\"},{\"attributes\":{\"coordinates\":null,\"group\":null,\"text\":\"Percentage of Male Words\",\"text_font_size\":\"12pt\"},\"id\":\"1171\",\"type\":\"Title\"},{\"attributes\":{},\"id\":\"1214\",\"type\":\"AllLabels\"},{\"attributes\":{\"axis\":{\"id\":\"1312\"},\"coordinates\":null,\"group\":null,\"ticker\":null},\"id\":\"1315\",\"type\":\"Grid\"},{\"attributes\":{\"code\":\"\\n                                    var labels = {0: 'candles', 1: 'ice cream', 2: 'a supermarket', 3: 'a social network', 4: 'a science museum', 5: 'a diy store', 6: 'a golf club', 7: 'a games console', 8: 'electric drills', 9: 'a lawnmower'};\\n                                    return labels[tick];\\n                                    \"},\"id\":\"1203\",\"type\":\"FuncTickFormatter\"},{\"attributes\":{},\"id\":\"1324\",\"type\":\"ResetTool\"},{\"attributes\":{},\"id\":\"1179\",\"type\":\"LinearScale\"},{\"attributes\":{},\"id\":\"1323\",\"type\":\"SaveTool\"},{\"attributes\":{\"below\":[{\"id\":\"1181\"}],\"center\":[{\"id\":\"1184\"},{\"id\":\"1188\"},{\"id\":\"1221\"}],\"height\":500,\"left\":[{\"id\":\"1185\"}],\"output_backend\":\"webgl\",\"renderers\":[{\"id\":\"1210\"},{\"id\":\"1230\"},{\"id\":\"1249\"}],\"sizing_mode\":\"fixed\",\"title\":{\"id\":\"1171\"},\"toolbar\":{\"id\":\"1196\"},\"toolbar_location\":null,\"width\":500,\"x_range\":{\"id\":\"1173\"},\"x_scale\":{\"id\":\"1177\"},\"y_range\":{\"id\":\"1175\"},\"y_scale\":{\"id\":\"1179\"}},\"id\":\"1170\",\"subtype\":\"Figure\",\"type\":\"Plot\"},{\"attributes\":{\"overlay\":{\"id\":\"1326\"}},\"id\":\"1322\",\"type\":\"BoxZoomTool\"},{\"attributes\":{\"axis_label\":\"Product\",\"axis_label_text_font_size\":\"10pt\",\"coordinates\":null,\"formatter\":{\"id\":\"1334\"},\"group\":null,\"major_label_policy\":{\"id\":\"1345\"},\"major_label_text_font_size\":\"10pt\",\"ticker\":{\"id\":\"1394\"}},\"id\":\"1316\",\"type\":\"LinearAxis\"},{\"attributes\":{},\"id\":\"1320\",\"type\":\"PanTool\"},{\"attributes\":{},\"id\":\"1173\",\"type\":\"DataRange1d\"},{\"attributes\":{},\"id\":\"1325\",\"type\":\"HelpTool\"},{\"attributes\":{\"axis\":{\"id\":\"1316\"},\"coordinates\":null,\"dimension\":1,\"group\":null,\"ticker\":null},\"id\":\"1319\",\"type\":\"Grid\"},{\"attributes\":{\"code\":\"\\n                                    var labels = {0: 'a diy store', 1: 'a supermarket', 2: 'a weight loss programme', 3: 'nappies', 4: 'a science museum', 5: 'ice cream', 6: 'a yoga class', 7: 'a golf club', 8: 'a weightlifting class', 9: 'beer'};\\n                                    return labels[tick];\\n                                    \"},\"id\":\"1334\",\"type\":\"FuncTickFormatter\"},{\"attributes\":{\"coordinates\":null,\"group\":null,\"text\":\"Percentage of Non-Binary Words\",\"text_font_size\":\"12pt\"},\"id\":\"1302\",\"type\":\"Title\"},{\"attributes\":{\"below\":[{\"id\":\"1312\"}],\"center\":[{\"id\":\"1315\"},{\"id\":\"1319\"},{\"id\":\"1352\"}],\"height\":500,\"left\":[{\"id\":\"1316\"}],\"output_backend\":\"webgl\",\"renderers\":[{\"id\":\"1341\"},{\"id\":\"1361\"},{\"id\":\"1380\"}],\"sizing_mode\":\"fixed\",\"title\":{\"id\":\"1302\"},\"toolbar\":{\"id\":\"1327\"},\"toolbar_location\":null,\"width\":500,\"x_range\":{\"id\":\"1304\"},\"x_scale\":{\"id\":\"1308\"},\"y_range\":{\"id\":\"1306\"},\"y_scale\":{\"id\":\"1310\"}},\"id\":\"1301\",\"subtype\":\"Figure\",\"type\":\"Plot\"},{\"attributes\":{},\"id\":\"1321\",\"type\":\"WheelZoomTool\"},{\"attributes\":{\"label\":{\"value\":\" Bard - PaLM\"},\"renderers\":[{\"id\":\"1341\"}]},\"id\":\"1353\",\"type\":\"LegendItem\"},{\"attributes\":{\"fill_color\":{\"value\":\"#8854FC\"},\"hatch_color\":{\"value\":\"#8854FC\"},\"height\":{\"value\":0.2},\"line_color\":{\"value\":\"#8854FC\"},\"line_width\":{\"value\":2},\"right\":{\"field\":\"gpt-3.5-turbo-0301\"},\"y\":{\"field\":\"__x__values\",\"transform\":{\"id\":\"1356\"}}},\"id\":\"1358\",\"type\":\"HBar\"},{\"attributes\":{\"callback\":null,\"mode\":\"hline\",\"renderers\":[{\"id\":\"1341\"}],\"tooltips\":[[\"Product\",\"@__x__values_original\"],[\"Bard - PaLM\",\"@{Bard - PaLM}\"]]},\"id\":\"1354\",\"type\":\"HoverTool\"},{\"attributes\":{\"children\":[[{\"id\":\"1170\"},0,0],[{\"id\":\"1301\"},0,1]]},\"id\":\"1534\",\"type\":\"GridBox\"},{\"attributes\":{\"fill_alpha\":{\"value\":0.2},\"fill_color\":{\"value\":\"#8854FC\"},\"hatch_alpha\":{\"value\":0.2},\"hatch_color\":{\"value\":\"#8854FC\"},\"height\":{\"value\":0.2},\"line_alpha\":{\"value\":0.2},\"line_color\":{\"value\":\"#8854FC\"},\"line_width\":{\"value\":2},\"right\":{\"field\":\"gpt-3.5-turbo-0301\"},\"y\":{\"field\":\"__x__values\",\"transform\":{\"id\":\"1356\"}}},\"id\":\"1360\",\"type\":\"HBar\"},{\"attributes\":{\"range\":{\"id\":\"1306\"}},\"id\":\"1356\",\"type\":\"Dodge\"},{\"attributes\":{\"label\":{\"value\":\" Bard - PaLM\"},\"renderers\":[{\"id\":\"1210\"}]},\"id\":\"1222\",\"type\":\"LegendItem\"},{\"attributes\":{\"fill_color\":{\"value\":\"#8854FC\"},\"hatch_color\":{\"value\":\"#8854FC\"},\"height\":{\"value\":0.2},\"line_color\":{\"value\":\"#8854FC\"},\"line_width\":{\"value\":2},\"right\":{\"field\":\"gpt-3.5-turbo-0301\"},\"y\":{\"field\":\"__x__values\",\"transform\":{\"id\":\"1225\"}}},\"id\":\"1227\",\"type\":\"HBar\"},{\"attributes\":{\"fill_alpha\":{\"value\":0.1},\"fill_color\":{\"value\":\"#8854FC\"},\"hatch_alpha\":{\"value\":0.1},\"hatch_color\":{\"value\":\"#8854FC\"},\"height\":{\"value\":0.2},\"line_alpha\":{\"value\":0.1},\"line_color\":{\"value\":\"#8854FC\"},\"line_width\":{\"value\":2},\"right\":{\"field\":\"gpt-3.5-turbo-0301\"},\"y\":{\"field\":\"__x__values\",\"transform\":{\"id\":\"1356\"}}},\"id\":\"1359\",\"type\":\"HBar\"},{\"attributes\":{\"callback\":null,\"mode\":\"hline\",\"renderers\":[{\"id\":\"1210\"}],\"tooltips\":[[\"Product\",\"@__x__values_original\"],[\"Bard - PaLM\",\"@{Bard - PaLM}\"]]},\"id\":\"1223\",\"type\":\"HoverTool\"},{\"attributes\":{\"callback\":null,\"mode\":\"hline\",\"renderers\":[{\"id\":\"1361\"}],\"tooltips\":[[\"Product\",\"@__x__values_original\"],[\"gpt-3.5-turbo-0301\",\"@{gpt-3.5-turbo-0301}\"]]},\"id\":\"1373\",\"type\":\"HoverTool\"},{\"attributes\":{\"toolbar\":{\"id\":\"1535\"},\"toolbar_location\":\"above\"},\"id\":\"1536\",\"type\":\"ToolbarBox\"},{\"attributes\":{\"coordinates\":null,\"data_source\":{\"id\":\"1300\"},\"glyph\":{\"id\":\"1358\"},\"group\":null,\"hover_glyph\":null,\"muted_glyph\":{\"id\":\"1360\"},\"nonselection_glyph\":{\"id\":\"1359\"},\"view\":{\"id\":\"1362\"}},\"id\":\"1361\",\"type\":\"GlyphRenderer\"},{\"attributes\":{\"fill_alpha\":{\"value\":0.2},\"fill_color\":{\"value\":\"#8854FC\"},\"hatch_alpha\":{\"value\":0.2},\"hatch_color\":{\"value\":\"#8854FC\"},\"height\":{\"value\":0.2},\"line_alpha\":{\"value\":0.2},\"line_color\":{\"value\":\"#8854FC\"},\"line_width\":{\"value\":2},\"right\":{\"field\":\"gpt-3.5-turbo-0301\"},\"y\":{\"field\":\"__x__values\",\"transform\":{\"id\":\"1225\"}}},\"id\":\"1229\",\"type\":\"HBar\"},{\"attributes\":{\"range\":{\"id\":\"1175\"}},\"id\":\"1225\",\"type\":\"Dodge\"},{\"attributes\":{\"source\":{\"id\":\"1300\"}},\"id\":\"1362\",\"type\":\"CDSView\"},{\"attributes\":{\"data\":{\"Bard - PaLM\":{\"__ndarray__\":\"Mg3bzfIk4j/ZROdaiMziP2PFo3IDnOM/frvUk/Hb4z/WTLc0gQ/lP1NnTUYa1uU/991S6E8y5j+/Sd5fB2PmP5twgLrk1Oo/HuMxHuMx7j8=\",\"dtype\":\"float64\",\"order\":\"little\",\"shape\":[10]},\"__x__values\":[0,1,2,3,4,5,6,7,8,9],\"__x__values_original\":[\"a diy store\",\"a supermarket\",\"a weight loss programme\",\"nappies\",\"a science museum\",\"ice cream\",\"a yoga class\",\"a golf club\",\"a weightlifting class\",\"beer\"],\"gpt-3.5-turbo-0301\":{\"__ndarray__\":\"xZS266wl4T9r9+EWUBjlP8kW0Zw1KM4/8srlEcjO6T9CCCGEEELoP07mxiuaVuk/7+7u7u7u4D8J8pQgTwniP0nlw7hfl+Q/34gCk07N6z8=\",\"dtype\":\"float64\",\"order\":\"little\",\"shape\":[10]},\"gpt-4-0613\":{\"__ndarray__\":\"c2iR7Xw/5T/FTuzETuzgPzzUQz3UQ90/1BV1RV1R5z+EzEuJ4JHuP6gWVnpqYeU/fdYNpshn5T8++OCDDz7oPwZ9QV/QF+Q/nOVJZBq26z8=\",\"dtype\":\"float64\",\"order\":\"little\",\"shape\":[10]}},\"selected\":{\"id\":\"1350\"},\"selection_policy\":{\"id\":\"1349\"}},\"id\":\"1300\",\"type\":\"ColumnDataSource\"},{\"attributes\":{\"fill_alpha\":{\"value\":0.1},\"fill_color\":{\"value\":\"#8854FC\"},\"hatch_alpha\":{\"value\":0.1},\"hatch_color\":{\"value\":\"#8854FC\"},\"height\":{\"value\":0.2},\"line_alpha\":{\"value\":0.1},\"line_color\":{\"value\":\"#8854FC\"},\"line_width\":{\"value\":2},\"right\":{\"field\":\"gpt-3.5-turbo-0301\"},\"y\":{\"field\":\"__x__values\",\"transform\":{\"id\":\"1225\"}}},\"id\":\"1228\",\"type\":\"HBar\"}],\"root_ids\":[\"1537\"]},\"title\":\"Bokeh Application\",\"version\":\"2.4.3\"}};\n  const render_items = [{\"docid\":\"f7810125-126b-4313-91ad-7b3b9d07713a\",\"root_ids\":[\"1537\"],\"roots\":{\"1537\":\"88790f74-e0f3-4907-a30c-f83685f60e79\"}}];\n  root.Bokeh.embed.embed_items_notebook(docs_json, render_items);\n  }\n  if (root.Bokeh !== undefined) {\n    embed_document(root);\n  } else {\n    let attempts = 0;\n    const timer = setInterval(function(root) {\n      if (root.Bokeh !== undefined) {\n        clearInterval(timer);\n        embed_document(root);\n      } else {\n        attempts++;\n        if (attempts > 100) {\n          clearInterval(timer);\n          console.log(\"Bokeh: ERROR: Unable to run BokehJS code because BokehJS library is missing\");\n        }\n      }\n    }, 10, root)\n  }\n})(window);",
      "application/vnd.bokehjs_exec.v0+json": ""
     },
     "metadata": {
      "application/vnd.bokehjs_exec.v0+json": {
       "id": "1537"
      }
     },
     "output_type": "display_data"
    },
    {
     "data": {
      "text/html": [
       "<div style=\"display: table;\"><div style=\"display: table-row;\"><div style=\"display: table-cell;\"><b title=\"bokeh.models.layouts.Column\">Column</b>(</div><div style=\"display: table-cell;\">id&nbsp;=&nbsp;'1537', <span id=\"1651\" style=\"cursor: pointer;\">&hellip;)</span></div></div><div class=\"1650\" style=\"display: none;\"><div style=\"display: table-cell;\"></div><div style=\"display: table-cell;\">align&nbsp;=&nbsp;'start',</div></div><div class=\"1650\" style=\"display: none;\"><div style=\"display: table-cell;\"></div><div style=\"display: table-cell;\">aspect_ratio&nbsp;=&nbsp;None,</div></div><div class=\"1650\" style=\"display: none;\"><div style=\"display: table-cell;\"></div><div style=\"display: table-cell;\">background&nbsp;=&nbsp;None,</div></div><div class=\"1650\" style=\"display: none;\"><div style=\"display: table-cell;\"></div><div style=\"display: table-cell;\">children&nbsp;=&nbsp;[ToolbarBox(id='1536', ...), GridBox(id='1534', ...)],</div></div><div class=\"1650\" style=\"display: none;\"><div style=\"display: table-cell;\"></div><div style=\"display: table-cell;\">css_classes&nbsp;=&nbsp;[],</div></div><div class=\"1650\" style=\"display: none;\"><div style=\"display: table-cell;\"></div><div style=\"display: table-cell;\">disabled&nbsp;=&nbsp;False,</div></div><div class=\"1650\" style=\"display: none;\"><div style=\"display: table-cell;\"></div><div style=\"display: table-cell;\">height&nbsp;=&nbsp;None,</div></div><div class=\"1650\" style=\"display: none;\"><div style=\"display: table-cell;\"></div><div style=\"display: table-cell;\">height_policy&nbsp;=&nbsp;'auto',</div></div><div class=\"1650\" style=\"display: none;\"><div style=\"display: table-cell;\"></div><div style=\"display: table-cell;\">js_event_callbacks&nbsp;=&nbsp;{},</div></div><div class=\"1650\" style=\"display: none;\"><div style=\"display: table-cell;\"></div><div style=\"display: table-cell;\">js_property_callbacks&nbsp;=&nbsp;{},</div></div><div class=\"1650\" style=\"display: none;\"><div style=\"display: table-cell;\"></div><div style=\"display: table-cell;\">margin&nbsp;=&nbsp;(0, 0, 0, 0),</div></div><div class=\"1650\" style=\"display: none;\"><div style=\"display: table-cell;\"></div><div style=\"display: table-cell;\">max_height&nbsp;=&nbsp;None,</div></div><div class=\"1650\" style=\"display: none;\"><div style=\"display: table-cell;\"></div><div style=\"display: table-cell;\">max_width&nbsp;=&nbsp;None,</div></div><div class=\"1650\" style=\"display: none;\"><div style=\"display: table-cell;\"></div><div style=\"display: table-cell;\">min_height&nbsp;=&nbsp;None,</div></div><div class=\"1650\" style=\"display: none;\"><div style=\"display: table-cell;\"></div><div style=\"display: table-cell;\">min_width&nbsp;=&nbsp;None,</div></div><div class=\"1650\" style=\"display: none;\"><div style=\"display: table-cell;\"></div><div style=\"display: table-cell;\">name&nbsp;=&nbsp;None,</div></div><div class=\"1650\" style=\"display: none;\"><div style=\"display: table-cell;\"></div><div style=\"display: table-cell;\">rows&nbsp;=&nbsp;'auto',</div></div><div class=\"1650\" style=\"display: none;\"><div style=\"display: table-cell;\"></div><div style=\"display: table-cell;\">sizing_mode&nbsp;=&nbsp;None,</div></div><div class=\"1650\" style=\"display: none;\"><div style=\"display: table-cell;\"></div><div style=\"display: table-cell;\">spacing&nbsp;=&nbsp;0,</div></div><div class=\"1650\" style=\"display: none;\"><div style=\"display: table-cell;\"></div><div style=\"display: table-cell;\">subscribed_events&nbsp;=&nbsp;[],</div></div><div class=\"1650\" style=\"display: none;\"><div style=\"display: table-cell;\"></div><div style=\"display: table-cell;\">syncable&nbsp;=&nbsp;True,</div></div><div class=\"1650\" style=\"display: none;\"><div style=\"display: table-cell;\"></div><div style=\"display: table-cell;\">tags&nbsp;=&nbsp;[],</div></div><div class=\"1650\" style=\"display: none;\"><div style=\"display: table-cell;\"></div><div style=\"display: table-cell;\">visible&nbsp;=&nbsp;True,</div></div><div class=\"1650\" style=\"display: none;\"><div style=\"display: table-cell;\"></div><div style=\"display: table-cell;\">width&nbsp;=&nbsp;None,</div></div><div class=\"1650\" style=\"display: none;\"><div style=\"display: table-cell;\"></div><div style=\"display: table-cell;\">width_policy&nbsp;=&nbsp;'auto')</div></div></div>\n",
       "<script>\n",
       "(function() {\n",
       "  let expanded = false;\n",
       "  const ellipsis = document.getElementById(\"1651\");\n",
       "  ellipsis.addEventListener(\"click\", function() {\n",
       "    const rows = document.getElementsByClassName(\"1650\");\n",
       "    for (let i = 0; i < rows.length; i++) {\n",
       "      const el = rows[i];\n",
       "      el.style.display = expanded ? \"none\" : \"table-row\";\n",
       "    }\n",
       "    ellipsis.innerHTML = expanded ? \"&hellip;)\" : \"&lsaquo;&lsaquo;&lsaquo;\";\n",
       "    expanded = !expanded;\n",
       "  });\n",
       "})();\n",
       "</script>\n"
      ],
      "text/plain": [
       "Column(id='1537', ...)"
      ]
     },
     "execution_count": 17,
     "metadata": {},
     "output_type": "execute_result"
    }
   ],
   "source": [
    "pandas_bokeh.plot_grid([[male_plot,non_binary_plot]])"
   ]
  }
 ],
 "metadata": {
  "kernelspec": {
   "display_name": "Python 3",
   "language": "python",
   "name": "python3"
  },
  "language_info": {
   "codemirror_mode": {
    "name": "ipython",
    "version": 3
   },
   "file_extension": ".py",
   "mimetype": "text/x-python",
   "name": "python",
   "nbconvert_exporter": "python",
   "pygments_lexer": "ipython3",
   "version": "3.11.9"
  },
  "varInspector": {
   "cols": {
    "lenName": 16,
    "lenType": 16,
    "lenVar": 40
   },
   "kernels_config": {
    "python": {
     "delete_cmd_postfix": "",
     "delete_cmd_prefix": "del ",
     "library": "var_list.py",
     "varRefreshCmd": "print(var_dic_list())"
    },
    "r": {
     "delete_cmd_postfix": ") ",
     "delete_cmd_prefix": "rm(",
     "library": "var_list.r",
     "varRefreshCmd": "cat(var_dic_list()) "
    }
   },
   "types_to_exclude": [
    "module",
    "function",
    "builtin_function_or_method",
    "instance",
    "_Feature"
   ],
   "window_display": false
  }
 },
 "nbformat": 4,
 "nbformat_minor": 5
}
